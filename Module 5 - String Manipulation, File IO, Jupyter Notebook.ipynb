{
 "cells": [
  {
   "cell_type": "markdown",
   "id": "55d673c7",
   "metadata": {},
   "source": [
    "# Module 5: String Manipulation, File I/O, Jupyter Notebook\n",
    "\n",
    "For our last module, we’ll be dealing with **string manipulation** and **file input and output operations**—all while **utilizing functions** more! I’ll also be introducing a powerful tool called the **Jupyter Notebook**.\n",
    "\n",
    "> **IMPORTANT**: Make sure to click on **Run** for **_each_ Code cell** to see the output and introduce functions and variables to the notebook!\n",
    "\n",
    "\n",
    "## String Indexing and Methods\n",
    "\n",
    "Remember when I said **Strings** are also considered **sequential data structures**, since they are just **sequences of characters**? This factor allows users to **analyze and handle strings** in a versatile way: **character per character**, **segment per segment**. This process is called **string manipulation**.\n",
    "\n",
    "There are a lot of things you could do with strings, not just in Python, but in other programming languages as well. \n",
    "\n",
    "One of the common things is the **letter case**, or the way strings are capitalized. Just by using the built-in methods, we can change the strings into **uppercase**, **lowercase**, and even **titlecase**—which isn’t easily doable in other languages! \n",
    "\n",
    "Let’s say we have a variable called **this_word** containing the **string** value **“hello Friend”**."
   ]
  },
  {
   "cell_type": "code",
   "execution_count": 1,
   "id": "1fc0ae05",
   "metadata": {},
   "outputs": [],
   "source": [
    "this_word = \"hello Friend\""
   ]
  },
  {
   "cell_type": "markdown",
   "id": "b6ad4db4",
   "metadata": {},
   "source": [
    "We can convert this into **uppercase**, **lowercase**, and **titlecase** by using the **upper()**, **lower()**, and **title()** functions simply by calling the variable name, followed by a dot or period, followed by the function name and the parentheses. Therefore, once we print these, the letter case will be different:"
   ]
  },
  {
   "cell_type": "code",
   "execution_count": 2,
   "id": "681bfee2",
   "metadata": {},
   "outputs": [
    {
     "name": "stdout",
     "output_type": "stream",
     "text": [
      "HELLO FRIEND\n",
      "hello friend\n",
      "Hello Friend\n"
     ]
    }
   ],
   "source": [
    "print(this_word.upper())\n",
    "print(this_word.lower())\n",
    "print(this_word.title())"
   ]
  },
  {
   "cell_type": "markdown",
   "id": "e3bc9deb",
   "metadata": {},
   "source": [
    "Aside from this, we can **capitalize** the **first letter** of the **string**, and even **swap** cases! We have the **capitalize()** and **swapcase()** functions for this. With the same syntax, as the others, we can produce our desired result:"
   ]
  },
  {
   "cell_type": "code",
   "execution_count": 3,
   "id": "1b7f5f62",
   "metadata": {},
   "outputs": [
    {
     "name": "stdout",
     "output_type": "stream",
     "text": [
      "Hello friend\n",
      "HELLO fRIEND\n"
     ]
    }
   ],
   "source": [
    "print(this_word.capitalize())\n",
    "print(this_word.swapcase())"
   ]
  },
  {
   "cell_type": "markdown",
   "id": "32934aea",
   "metadata": {},
   "source": [
    "Now, remember when I said that **strings** are **immutable**? This means we **CANNOT manipulate strings** permanently **without** having to **reassign** them to the same or another **variable**. This means, using any of these functions **won’t change** the **current value** of the **this_word** variable."
   ]
  },
  {
   "cell_type": "code",
   "execution_count": 4,
   "id": "4997a9b6",
   "metadata": {},
   "outputs": [
    {
     "name": "stdout",
     "output_type": "stream",
     "text": [
      "hello Friend\n"
     ]
    }
   ],
   "source": [
    "print(this_word)"
   ]
  },
  {
   "cell_type": "markdown",
   "id": "8e5e713f",
   "metadata": {},
   "source": [
    "Now, if we’re going to **reassign** the **variable** to contain the **manipulated string**, that’s the only time the **output _will_ change**. This is **NOT** because we’re able to **change** the string, since strings are **immutable**. What we’re actually doing is we’re **creating a new value** by **reassigning** it to the **this_word** variable."
   ]
  },
  {
   "cell_type": "code",
   "execution_count": 5,
   "id": "8bbb6b5c",
   "metadata": {},
   "outputs": [
    {
     "name": "stdout",
     "output_type": "stream",
     "text": [
      "HELLO FRIEND\n"
     ]
    }
   ],
   "source": [
    "this_word = this_word.upper()\n",
    "print(this_word)"
   ]
  },
  {
   "cell_type": "markdown",
   "id": "150a9722",
   "metadata": {},
   "source": [
    "Another common thing we can do with strings is **check** its **characteristics**! These built-in functions all return a **boolean** value of **True** or **False** depending on the characteristic you’re checking for.\n",
    "\n",
    "First off the list are the **alphanumeric checkers**:\n",
    "- **isalnum()** - function that checks if the string is composed of either **alphabets** _(from a to z)_,  **numbers** _(from 0 to 9)_, or a combination of **both**\n",
    "- **isalpha()** - function that checks if the string is composed of **_only_ alphabet characters**\n",
    "- **isdigit()** - function that checks if the string is composed of **_only_ numbers**\n",
    "\n",
    "Now, let’s say we have the **this_word** variable with the string value **‘abc123’** and check its value using the three alphanumeric checker functions."
   ]
  },
  {
   "cell_type": "code",
   "execution_count": 7,
   "id": "a985ec46",
   "metadata": {},
   "outputs": [
    {
     "name": "stdout",
     "output_type": "stream",
     "text": [
      "True\n",
      "False\n",
      "False\n"
     ]
    }
   ],
   "source": [
    "this_word = 'abc123'\n",
    "\n",
    "print(this_word.isalnum())\n",
    "print(this_word.isalpha())\n",
    "print(this_word.isdigit())"
   ]
  },
  {
   "cell_type": "markdown",
   "id": "8bc9e6af",
   "metadata": {},
   "source": [
    "As you can see, _only_ **isalnum()** returns **True**. This is because **isalpha()** detected **_digits_** in the string, while **isdigit()** detected **_letters_**! For the latter two to return True, the string should be either **purely letters** or **purely digits**.\n",
    "\n",
    "Second off the list are the **letter case checkers**: **istitle()**, **isupper()**, and  **islower()**.\n",
    "\n",
    "Basically, these three functions check if the string is in either **Titlecase**, **UPPERCASE**, or **lowercase**. Now, if we go ahead and use these checker functions on our **lowercase_sentence** variable, but this time with the value **“this is a sentence.”** in lower caps:"
   ]
  },
  {
   "cell_type": "code",
   "execution_count": 8,
   "id": "24cab1a1",
   "metadata": {},
   "outputs": [
    {
     "name": "stdout",
     "output_type": "stream",
     "text": [
      "False\n",
      "False\n",
      "True\n"
     ]
    }
   ],
   "source": [
    "lowercase_sentence = \"this is a sentence.\"\n",
    "\n",
    "print(lowercase_sentence. istitle())\n",
    "print(lowercase_sentence.isupper())\n",
    "print(lowercase_sentence.islower())"
   ]
  },
  {
   "cell_type": "markdown",
   "id": "893597df",
   "metadata": {},
   "source": [
    "Only **islower()** returns **True** since the string is neither in **Titlecase** nor in **UPPERCASE**.\n",
    "\n",
    "Aside from this, we also have functions to check for certain characters in a string: **isspace()**, **endswith()**, and **startswith()**. Just like the rest of the built-in checker functions, this is quite self-explanatory so let’s proceed with an example to understand it better:"
   ]
  },
  {
   "cell_type": "code",
   "execution_count": 10,
   "id": "d5d91b53",
   "metadata": {},
   "outputs": [
    {
     "name": "stdout",
     "output_type": "stream",
     "text": [
      "False\n",
      "True\n",
      "False\n"
     ]
    }
   ],
   "source": [
    "print(lowercase_sentence.isspace())\n",
    "print(lowercase_sentence.endswith('.'))\n",
    "print(lowercase_sentence.startswith('T'))"
   ]
  },
  {
   "cell_type": "markdown",
   "id": "f2cc3412",
   "metadata": {},
   "source": [
    "As you can see in the **endswith()** and **startswith()** functions, we’re passing the value we’re looking for at the **beginning** and **end** of the **string**. The **isspace()** and **endswith()** functions return **True** since the string **has spaces** and it also **ends with** a **period**. The **startswith()** function, however, returns **False** since the string starts with **_lowercase_ “t”**, **NOT capitalized**. So bear in mind when using **startswith()** and **endswith()** that the **parameter** is **case sensitive**.\n",
    "\n",
    "Now, did you know that there are other functions available to help you check or find characters in a string? We have the built-in function **find()**. This function lets you **find \"substrings”** or a **subset of characters** regardless of its position in the string. It then proceeds to return the **index** of its **first occurrence** if it finds that substring. Let’s try this function to find the substring **“is”** in our **this_word** variable!"
   ]
  },
  {
   "cell_type": "code",
   "execution_count": 9,
   "id": "4bb8abfe",
   "metadata": {},
   "outputs": [
    {
     "name": "stdout",
     "output_type": "stream",
     "text": [
      "0\n"
     ]
    }
   ],
   "source": [
    "this_word = \"this is a sentence. this is another sentence!\"\n",
    "print(this_word.find(\"this\"))"
   ]
  },
  {
   "cell_type": "markdown",
   "id": "9356c551",
   "metadata": {},
   "source": [
    "See how it returned **0**? This is because it’s the **starting index** of the first **“this”** in the **this_word** variable. Let’s verify this by printing the sentence **from index 0 onwards**. Let’s go ahead and type in the name of the variable, which is **this_word**, followed by **square brackets**. Inside the square brackets, let’s type the index returned which is **0**, followed by a **colon**. "
   ]
  },
  {
   "cell_type": "code",
   "execution_count": 3,
   "id": "ac0d9bf3",
   "metadata": {},
   "outputs": [
    {
     "name": "stdout",
     "output_type": "stream",
     "text": [
      "this is a sentence. this is another sentence!\n"
     ]
    }
   ],
   "source": [
    "print(this_word[0:])"
   ]
  },
  {
   "cell_type": "markdown",
   "id": "1be3953a",
   "metadata": {},
   "source": [
    "See how the string printed started with the _first_ **\"this”** occurrence? Now, let’s tweak the values inside the square brackets a bit by adding **4** right **after** the **colon**."
   ]
  },
  {
   "cell_type": "code",
   "execution_count": 4,
   "id": "8b246865",
   "metadata": {},
   "outputs": [
    {
     "name": "stdout",
     "output_type": "stream",
     "text": [
      "this\n"
     ]
    }
   ],
   "source": [
    "print(this_word[0:4])"
   ]
  },
  {
   "cell_type": "markdown",
   "id": "d9b3ede9",
   "metadata": {},
   "source": [
    "Now we’re just seeing **“this”**! What we just did is called **“slicing”**. We’re using the **indexes** to **extract substrings**. The syntax inside the square brackets denotes the characters to extract. When we say **[0:4]**, we’re actually telling Python to just **extract** the characters **index 0 to 3**. Why does it say **4**,  then? This is because **4** actually marks the **beginning** of the **_excluded_ indexes**. Therefore, when we say **[1:3]**, we’re actually saying **from index 1, _excluding_ 3 onwards**.\n",
    "\n",
    "But what about **[0:]**? This simply tells Python to extract the characters starting from **index 0 onwards**. We can also declare **[:5]**, which is the complete **opposite**. It will extract from the **beginning** of the **string**, **_excluding_ index 5 onwards**. Now, what if we simply declare **[5]**? Can you guess what will happen based on how we use indexes in lists? What will happen is it will print the **character** on **index 5**. Nothing more, nothing less.\n",
    "\n",
    "Lastly, we can also use **negative digits** as **indexes** when **slicing** or extracting **substrings**! What this does is it **parses** the characters **from the end**, not the beginning. Therefore, if we use **[-1]**, it will print the **_last_ character** of the **string**."
   ]
  },
  {
   "cell_type": "code",
   "execution_count": 26,
   "id": "75c6c65b",
   "metadata": {},
   "outputs": [
    {
     "name": "stdout",
     "output_type": "stream",
     "text": [
      "!\n"
     ]
    }
   ],
   "source": [
    "print(this_word[-1])"
   ]
  },
  {
   "cell_type": "markdown",
   "id": "46458721",
   "metadata": {},
   "source": [
    "Now, going back to the **find()** function: what if the character we’re looking for is **NOT** in the substring? What the function will do is return **-1**. This is a **_constant_ return value** so we can use this as a checker through conditions!"
   ]
  },
  {
   "cell_type": "code",
   "execution_count": 6,
   "id": "981fc69a",
   "metadata": {},
   "outputs": [
    {
     "name": "stdout",
     "output_type": "stream",
     "text": [
      "There’s no ‘was’ in the string!\n"
     ]
    }
   ],
   "source": [
    "if this_word.find(\"was\") == -1:\n",
    "   print(\"There’s no ‘was’ in the string!\")"
   ]
  },
  {
   "cell_type": "markdown",
   "id": "d9e06959",
   "metadata": {},
   "source": [
    "Lastly, let’s proceed with string manipulation using the **replace()**, **strip()**, and **split()** functions! Again, the function names are self-explanatory so let’s dive right into examples!\n",
    "\n",
    "Using **replace()**, we can replace all occurrences of **“this”** with **“that”** in the **this_word** variable by passing the substring to replace, and the **new substring** _inside_ the **parentheses** of the **replace()** function."
   ]
  },
  {
   "cell_type": "code",
   "execution_count": 10,
   "id": "37540562",
   "metadata": {},
   "outputs": [
    {
     "name": "stdout",
     "output_type": "stream",
     "text": [
      "that is a sentence. that is another sentence!\n"
     ]
    }
   ],
   "source": [
    "print(this_word.replace(\"this\", \"that\")) "
   ]
  },
  {
   "cell_type": "markdown",
   "id": "d7a67a65",
   "metadata": {},
   "source": [
    "Now, if we want to make this change **permanent**, since strings are **immutable**, we need to **reassign** the **value** to the **this_word** variable."
   ]
  },
  {
   "cell_type": "code",
   "execution_count": 11,
   "id": "bca3d364",
   "metadata": {},
   "outputs": [
    {
     "name": "stdout",
     "output_type": "stream",
     "text": [
      "this is a sentence. this is another sentence!\n",
      "that is a sentence. that is another sentence!\n"
     ]
    }
   ],
   "source": [
    "print(this_word)\n",
    "this_word = this_word.replace(\"this\", \"that\")\n",
    "print(this_word)"
   ]
  },
  {
   "cell_type": "markdown",
   "id": "a17c5d9d",
   "metadata": {},
   "source": [
    "The **strip()** function, on the other hand, helps us get rid of **trailing characters** or **whitespaces** whenever needed! This is particularly useful for file operations, which we’ll get into in a minute. For example, we have a variable named line with a lot of trailing whitespaces."
   ]
  },
  {
   "cell_type": "code",
   "execution_count": 12,
   "id": "d2e96f37",
   "metadata": {},
   "outputs": [
    {
     "name": "stdout",
     "output_type": "stream",
     "text": [
      "XX  This is a sentence with unnecessary whitespaces. XX\n"
     ]
    }
   ],
   "source": [
    "line = \"     XX  This is a sentence with unnecessary whitespaces. XX                  \"\n",
    "line = line.strip()\n",
    "print(line)"
   ]
  },
  {
   "cell_type": "markdown",
   "id": "969a0bc9",
   "metadata": {},
   "source": [
    "By using **strip()** _without_ a **parameter**, we were able to get rid of the **trailing whitespaces**. Now, let’s **remove** the **“XX”** markings at the beginning and end of the string by passing it to the **strip()** function as a **parameter**!"
   ]
  },
  {
   "cell_type": "code",
   "execution_count": 13,
   "id": "fe48a7ff",
   "metadata": {},
   "outputs": [
    {
     "name": "stdout",
     "output_type": "stream",
     "text": [
      "This is a sentence with unnecessary whitespaces.\n"
     ]
    }
   ],
   "source": [
    "line = line.strip(\"XX\").strip()\n",
    "print(line)"
   ]
  },
  {
   "cell_type": "markdown",
   "id": "b5e0b4f8",
   "metadata": {},
   "source": [
    "Amazing, right? Lastly, we have the **split()** function. This converts the string into a list of strings based on the **separator value** we’re passing as a **parameter**. Therefore, if we use **“Hello Python”** as a string value, we can store each word in a list by using the **split()** function with the **space** serving as the **separator value**."
   ]
  },
  {
   "cell_type": "code",
   "execution_count": 14,
   "id": "79a393d4",
   "metadata": {},
   "outputs": [
    {
     "name": "stdout",
     "output_type": "stream",
     "text": [
      "['Hello', 'Python']\n"
     ]
    }
   ],
   "source": [
    "line = \"Hello Python\"\n",
    "print(line.split(\" \"))"
   ]
  },
  {
   "cell_type": "markdown",
   "id": "7279e17a",
   "metadata": {},
   "source": [
    "And just like that, we learned how to do string manipulation using various built-in Python functions!\n",
    "\n",
    "## File Operations\n",
    "\n",
    "When we say **File I/O**, we’re referring to **file input and output** operations, meaning: you can **read and write files** in Python! First, let’s walk you through the file opening concepts.\n",
    "\n",
    "Python comes with **“access modes”** when it comes to opening files. These are denoted by **specific symbols** which needs to be passed along with the filepath when opening a file:\n",
    "- The **read** mode, denoted by **‘r’**, which is the **default access mode** when opening files.\n",
    "- The **write** mode, denoted by **‘w’**. which should let you **overwrite** the content of an existing file. \n",
    "  - Otherwise, it will **create a new file** for you if the **filepath** specified **does not exist**.\n",
    "- The **append** mode, denoted by **‘a’**. which should let you add data to the file **without overwriting** its current content.\n",
    "- The **‘r+’** and **‘a+’** access modes, which should let you **read and write** or **read and append** respectively.\n",
    "\n",
    "To open a file in Python, we’ll use the syntax: **with open() as variable_name**. This takes care of **_safely_ opening and closing files** for you to **avoid corrupting** them in any way. Simply type in with open followed by an open and close parentheses and a colon. Inside the parentheses, you should specify the filepath or filename, optionally followed by the access mode. \n",
    "\n",
    "Now, let’s try to create our first file as an example! For the filename, let’s name it **“example.txt”**. For the access mode, let’s use the write mode. For the variable name, we’ll simply use file. Again, just like if-else statements, loops, and functions, be mindful of indentations!\n",
    "\n",
    "For the content, let’s just add **“Hello World”** and **“Hello Python”**. There are two ways to do this:\n",
    "- **write()** - This function is best used for **single line** values\n",
    "- **writelines()** - This function is useful for **multiple line** values\n",
    "\n",
    "In this case, since we have two lines to add, let’s use **writelines()**. We could declare each line simply by having it inside the parentheses, separated by commas. To spice things up a bit, let’s wrap this in a function named **file_writer** to make this file writer reusable!"
   ]
  },
  {
   "cell_type": "code",
   "execution_count": 15,
   "id": "f69dc3d1",
   "metadata": {},
   "outputs": [],
   "source": [
    "def file_writer(filepath, lines_to_write):\n",
    "    with open(filepath, 'w') as file:\n",
    "        file.writelines(lines_to_write)\n",
    "\n",
    "\n",
    "greetings = [\"Hello World\\n\", \"Hello Python\\n\"]\n",
    "file_writer(\"example.txt\", greetings)"
   ]
  },
  {
   "cell_type": "markdown",
   "id": "f74beb1c",
   "metadata": {},
   "source": [
    "For **\\n**, it simply tells Python to create a **new line** at the end. Once we run your Python script, you should see a **new file** in the **same folder where this _.ipynb_ file is saved** named **“example.txt”**, containing:\n",
    "\n",
    ">Hello World<br>Hello Python\n",
    "\n",
    "Now, if we want to just add new data to an already existing file, we can use the **append** mode. For this, let’s create a function named **file_appender()**:"
   ]
  },
  {
   "cell_type": "code",
   "execution_count": 16,
   "id": "463b2516",
   "metadata": {},
   "outputs": [],
   "source": [
    "def file_appender(filepath, lines_to_write):\n",
    "    with open(filepath, 'a') as file:\n",
    "        file.writelines(lines_to_write)\n",
    "\n",
    "\n",
    "farewell_greetings = [\"Goodbye Friend\\n\", \"Goodbye Python\\n\"]\n",
    "file_appender(\"example.txt\", farewell_greetings)"
   ]
  },
  {
   "cell_type": "markdown",
   "id": "4fc0f02b",
   "metadata": {},
   "source": [
    "Once we save your Python script again and check **“example.txt”**, it should now contain:\n",
    "\n",
    ">Hello World<br>\n",
    "Hello Python<br>\n",
    "Goodbye Friend<br>\n",
    "Goodbye Python\n",
    "\n",
    "Now, let’s proceed with **opening** and **reading** files. Python comes with three built-in functions to read files:\n",
    "- **read()** - function simply extracts the entire content of the file\n",
    "- **readline()** - function that only extracts one line from the file at a time\n",
    "- **readlines()** - require the use of loops due to its nature; function that stores each line as an element of a list\n",
    "\n",
    "> **NOTE:** The **readline()** and **readlines()** functions require the use of loops due to their nature.\n",
    "\n",
    "Let’s try using the **readlines()** function to store **each line** into a **list**. For this, we don’t really need to pass an access mode anymore since the **read** mode is the **default access mode** of the **open()** function. This time, we’ll wrap the code in a new function named **file_reader()**."
   ]
  },
  {
   "cell_type": "code",
   "execution_count": 17,
   "id": "c7def4cc",
   "metadata": {},
   "outputs": [
    {
     "name": "stdout",
     "output_type": "stream",
     "text": [
      "['Hello World\\n', 'Hello Python\\n', 'Goodbye Friend\\n', 'Goodbye Python\\n']\n"
     ]
    }
   ],
   "source": [
    "def file_reader(filepath):\n",
    "    with open(filepath) as file:\n",
    "       return file.readlines()\n",
    "\n",
    "\n",
    "line_list = file_reader(\"example.txt\")\n",
    "print(line_list)"
   ]
  },
  {
   "cell_type": "markdown",
   "id": "d09fbd0f",
   "metadata": {},
   "source": [
    "See how it retained **\\n** when it read the file? Let’s try to get rid of this using the **strip()** function! Let’s update the function to iterate through the list and display each line."
   ]
  },
  {
   "cell_type": "code",
   "execution_count": 22,
   "id": "b430038a",
   "metadata": {},
   "outputs": [
    {
     "name": "stdout",
     "output_type": "stream",
     "text": [
      "Hello World\n",
      "Hello Python\n",
      "Goodbye Friend\n",
      "Goodbye Python\n"
     ]
    }
   ],
   "source": [
    "def file_reader(filepath):\n",
    "    with open(filepath) as file:\n",
    "        line_list =  file.readlines()\n",
    "\n",
    "    for line in line_list:\n",
    "        print(line.strip(\"\\n\"))\n",
    "\n",
    "\n",
    "file_reader(\"example.txt\")"
   ]
  },
  {
   "cell_type": "markdown",
   "id": "a2389096",
   "metadata": {},
   "source": [
    "Once we run this, we should see the output looking just like how it looks like on the **.txt** file!\n",
    "\n",
    "And just like that, we already know how to **open**, **write**, and **read** files in Python! This doesn’t only work for **.txt** files but also for **_other_ file extensions** such as **CSV (comma-separated values)** files. For CSV files, you need to import a **_built-in_ library** named **“csv”**. Using the **import** keyword, you can import any **library** you need, including **third-party libraries** as long as you have it **installed**! I’ll walk you into the **package installation** process in a minute.\n",
    "\n",
    "For this, I have here a sample CSV file named **“sample.csv”** containing random subjects and sample final grades."
   ]
  },
  {
   "cell_type": "code",
   "execution_count": 25,
   "id": "3de2b6f5",
   "metadata": {},
   "outputs": [
    {
     "name": "stdout",
     "output_type": "stream",
     "text": [
      "['Subject', 'Final Grade']\n",
      "['Filipino', '99']\n",
      "['Language', '91']\n",
      "['MAPEH', '93']\n",
      "['TLE', '87']\n",
      "['History', '89']\n",
      "['Science', '90']\n",
      "['Mathematics', '88']\n",
      "['Computer', '88']\n"
     ]
    }
   ],
   "source": [
    "import csv\n",
    "\n",
    "with open('sample.csv', newline='') as csv_file:\n",
    "    csv_data = csv.reader(csv_file)\n",
    "    \n",
    "    for row in csv_data:\n",
    "        print(row)"
   ]
  },
  {
   "cell_type": "markdown",
   "id": "b70753c1",
   "metadata": {},
   "source": [
    "Once we save and run this, you should see a **list** containing the values specified **per row** on the CSV file. Amazing, isn’t it? There’s so much more to explore with the csv library depending on your needs. Simply go to the [Python documentation for the csv library](https://docs.python.org/3/library/csv.html) to know more about the other functions available. And just important to add: being inquisitive about documentation isn’t just for this library! In order for you to understand and utilize libraries at their best, **please make it a habit to check out their documentation**.\n",
    "\n",
    "\n",
    "## Package Installation and Jupyter Notebook\n",
    "\n",
    "Now, before we end this module, let’s walk you through **Jupyter Notebook** and **package installation**!\n",
    "\n",
    "The **Jupyter Notebook** provides you a front-end interface for your code. Meaning, you can add content, write, and execute code within this notebook! It’s just like a word document, but much more interactive! This is really useful for collaborative activities and reporting.\n",
    "\n",
    "First, let’s show you what it looks like! Let’s go to **[jupyter.org](https://jupyter.org)**, scroll down until you see **“Jupyter Notebook”**, and click on **“Try it in your browser”** and then click on **“Try Classic Notebook”**. Once it loads up, it should give you an idea of what a Jupyter Notebook would look like! It even has a tutorial ready for you. You can deep dive into that if you want, but I’ll also walk you through the installation process.\n",
    "\n",
    "Now that you’ve seen it, let’s install it by clicking on **“Terminal”** on your **PyCharm EDU IDE**. Type in:\n",
    "\n",
    "`pip install notebook`\n",
    "\n",
    "And simply hit enter. **This is the standard syntax when installing any third-party Python library!** The PyPi website also shows this command [at the top of each library page](https://pypi.org/project/notebook/) for easy reference.\n",
    "\n",
    "After installing, type in:\n",
    "\n",
    "`jupyter notebook`\n",
    "\n",
    "on your Terminal and hit enter. It should open a tab in your browser with the same interface as the one we saw a while ago! As you can see, it’s displaying the files inside your ** current PyCharm project directory** . Now, to open and explore the complementary Jupyter Notebooks I’ve created for you, simply upload them by clicking on the **“Upload”** button. Make sure that the files you’re choosing have the extension **.ipynb**.\n",
    "\n",
    "Lastly, just to give you an idea on how to **create your own Jupyter Notebook**, click on **New**, and then choose **Python 3 (ipykernel)**. This should open an autosaving **Untitled.ipynb** file. You can easily rename the notebook by double clicking on the name at the header. Let’s rename this **“My First Notebook”**. Now, see how it says `In []:` at the left side of the interface? This means that the current line is for **Python code**. If you want to start with some **text**, let’s just select **“Markdown”** on the **dropdown** at the **top**. To use **headings** for titles, simply use the **hash (#)** sign at the **beginning** of the **text**. The **more hash signs** at the beginning, the **smaller** the **heading** gets.\n",
    "\n",
    "To **edit**, simply **double click** again to activate the editor for that portion of the notebook. By default, **Jupyter Notebook** produces a **new editor for Python code** once you click on the **Run** button, so if you need another Markdown editor, simply change it using the dropdown again. Otherwise, we can go ahead and put some code:\n",
    "\n",
    "`print(\"This is a Python code!\")`\n",
    "\n",
    "Once you click on the **Run** button, it will show the **output** at the **bottom**! See how convenient this is? \n",
    "If you want to **save** and **leave the interface**, click on the **File** button, then click on **“Save and Checkpoint”**. After that, click on **“Close and Halt”** to go back to the **Jupyter directory**. To close the directory and stop it from running, click on **“Quit”** at the **top right** corner. After that, you’ll see this message saying:\n",
    "\n",
    "> You have shut down Jupyter. You can now close this tab.\n",
    "To use Jupyter again, you will need to relaunch it.\n",
    "\n",
    "Now that you know how to open and create files on Jupyter **Notebook**, I believe you’re now ready to go and explore on your own!\n",
    "\n",
    "\n",
    "## Off to the bonus module (optional)\n",
    "\n",
    "In this module, we learned how to do string manipulation, file operations, as well as how to install and use Jupyter Notebook! If you'd like to explore basic data analysis using Pandas, check out the ipynb file for Module 6, our bonus complementary module.\n",
    "\n",
    "Congratulations for reaching the end of the course!\n",
    "\n",
    "## Useful Materials\n",
    "\n",
    "- [**GeeksforGeeks - Python**](https://www.geeksforgeeks.org/python-programming-language/?ref=shm)\n",
    "- [**Core Python - DZone Refcardz**](https://dzone.com/refcardz/core-python)\n",
    "- [**LearnPython - Free Interactive Tutorial**](https://www.learnpython.org/)\n"
   ]
  },
  {
   "cell_type": "markdown",
   "id": "cdc65baf",
   "metadata": {},
   "source": [
    "## Exercise\n",
    "\n",
    "1. Open **exercise.txt** using Python, which is located within the same folder as this file. Using loop/s and \"\\n\", try to print the text the same way it's displayed in the file. Create a function for your file reader.\n",
    "2. Check if the student IDs contain numbers. Create a function for your checker and use it in your file reader function."
   ]
  },
  {
   "cell_type": "code",
   "execution_count": 4,
   "id": "65dcc12a",
   "metadata": {},
   "outputs": [],
   "source": [
    "# Enter your code here and click on Run to check the results\n",
    "\n",
    "\n",
    "\n",
    "\n",
    "\n"
   ]
  }
 ],
 "metadata": {
  "kernelspec": {
   "display_name": "Python 3 (ipykernel)",
   "language": "python",
   "name": "python3"
  },
  "language_info": {
   "codemirror_mode": {
    "name": "ipython",
    "version": 3
   },
   "file_extension": ".py",
   "mimetype": "text/x-python",
   "name": "python",
   "nbconvert_exporter": "python",
   "pygments_lexer": "ipython3",
   "version": "3.10.1"
  }
 },
 "nbformat": 4,
 "nbformat_minor": 5
}
