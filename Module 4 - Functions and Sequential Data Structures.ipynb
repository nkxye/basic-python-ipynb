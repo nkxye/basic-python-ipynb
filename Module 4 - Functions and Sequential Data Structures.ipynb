{
 "cells": [
  {
   "cell_type": "markdown",
   "id": "443a34cb",
   "metadata": {},
   "source": [
    "# Module 4: Functions and Sequential Data Structures\n",
    "\n",
    "In the last module, we learned how to perform comparison and logical operations for **if-else statements** and **loops**. This time around, we’ll be focusing more on sequential data structures and functions in Python. We'll also get to know how **for** loops work with sequential data!\n",
    "\n",
    "> **IMPORTANT**: Make sure to click on **Run** for **_each_ Code cell** to see the output and introduce functions and variables to the notebook!\n",
    "\n",
    "\n",
    "## Mutable and Immutable Data\n",
    "\n",
    "Before deep diving into sequential data, it’s important for us to be able to, first, distinguish mutable from immutable data.\n",
    "\n",
    "**Mutable** means the object is **changeable** even after creation. **Immutable**, on the other hand, means the object **cannot be changed** once created.\n",
    "\n",
    "Think of this as tiny houses on wheels versus houses built on lots. Tiny houses can be easily moved to another location, while houses built on lots can only be rebuilt, not moved. Tiny houses, in this case, would be mutable. Built houses, on the other hand, would be immutable.\n",
    "\n",
    "When coding, you need to consider the **immutability** of some sequential data structures. In Python, **mutable** objects include: \n",
    "- Lists\n",
    "- Dictionaries\n",
    "- Sets\n",
    "\n",
    "**Immutable** objects, on the other hand, include:\n",
    "- Numbers\n",
    "- Tuples\n",
    "- Frozen Sets\n",
    "- Strings\n",
    " \n",
    "Now, let’s get into this further and dive into mutable data structures!\n",
    "\n",
    "\n",
    "## Lists, Sets, and Dictionaries\n",
    "\n",
    "### Lists\n",
    "\n",
    "If you’ve tried any other programming language, you might notice that the syntax for lists is similar to arrays. Each list is enclosed by square brackets ([]), while each element in the list is separated by commas. Lists are versatile in such a way that they can contain values of combined data types. Meaning, unlike the usual arrays, a list can have a combination of numerical, boolean, and string values. It can even accept **another data structure** as a **value**! For example, we have these lists declared:"
   ]
  },
  {
   "cell_type": "code",
   "execution_count": 19,
   "id": "4a61f65e",
   "metadata": {},
   "outputs": [
    {
     "name": "stdout",
     "output_type": "stream",
     "text": [
      "['shoes', 8, 'running', ['Circus', 'Toxic']]\n"
     ]
    }
   ],
   "source": [
    "favorite_things = [\"shoes\", 8, \"running\", [\"Circus\", \"Toxic\"]]\n",
    "print(favorite_things)"
   ]
  },
  {
   "cell_type": "markdown",
   "id": "4dc96dbc",
   "metadata": {},
   "source": [
    "What you’ll notice in this list is that it contains a *number*, *2 strings*, and even *another list* as a value!\n",
    "\n",
    "Now, is there a way to *access the values*, not only of lists, but sequential data structures in general? \n",
    "The answer is yes! These sequential data structures start with an **index** of **0**. The same also applies to most programming languages. When we say **index**, we’re referring to the **position minus 1** of the **value** in the **sequence**.\n",
    "\n",
    "Let’s say we want to get the **first value** in the **favorite_things** list. What you need to do is type in an opening square bracket followed by the index, which in this case would be zero, followed by a closing square bracket."
   ]
  },
  {
   "cell_type": "code",
   "execution_count": 20,
   "id": "26672e8b",
   "metadata": {},
   "outputs": [
    {
     "name": "stdout",
     "output_type": "stream",
     "text": [
      "shoes\n"
     ]
    }
   ],
   "source": [
    "first_element = favorite_things[0]\n",
    "print(first_element)"
   ]
  },
  {
   "cell_type": "markdown",
   "id": "3f8bcf64",
   "metadata": {},
   "source": [
    "Now, if we go ahead and run the code, it will display **“shoes”** since **index 0** would mean the **first element** in the list (since index is position minus 1). Therefore, if we want to get the **second element** in the list, we can do this:"
   ]
  },
  {
   "cell_type": "code",
   "execution_count": 21,
   "id": "ca48dc1b",
   "metadata": {},
   "outputs": [
    {
     "name": "stdout",
     "output_type": "stream",
     "text": [
      "8\n"
     ]
    }
   ],
   "source": [
    "second_element = favorite_things[1]\n",
    "print(second_element)"
   ]
  },
  {
   "cell_type": "markdown",
   "id": "22d5ed23",
   "metadata": {},
   "source": [
    "We just need to change the **index** from **0** to **1** to get **8** as an **output** of the **second_element** variable.\n",
    "\n",
    "You can even change the values if you want to. Let’s say we want to **change** the **second element** from **8** to **“eating”**. You can simply **reassign** that index to another value just like how we do it with variables:"
   ]
  },
  {
   "cell_type": "code",
   "execution_count": 22,
   "id": "63c666d3",
   "metadata": {},
   "outputs": [
    {
     "name": "stdout",
     "output_type": "stream",
     "text": [
      "eating\n",
      "['shoes', 'eating', 'running', ['Circus', 'Toxic']]\n"
     ]
    }
   ],
   "source": [
    "favorite_things[1] = \"eating\"\n",
    "print(favorite_things[1])\n",
    "print(favorite_things)"
   ]
  },
  {
   "cell_type": "markdown",
   "id": "4ca576b1",
   "metadata": {},
   "source": [
    "How about the fourth element in the list? How do we get the values inside that list? In such cases, what we can do in these so-called **nested lists** or *lists in a list* is just add another opening square bracket followed by the index of the nested list, followed by a closing square bracket.\n",
    "\n",
    "So, if we want to access **“Toxic”**, which is the **second element** inside the **nested list**, we just need to access the nested list itself by entering **3** as the **first index** and **1** as the **second index**:"
   ]
  },
  {
   "cell_type": "code",
   "execution_count": 9,
   "id": "165a7f29",
   "metadata": {},
   "outputs": [
    {
     "name": "stdout",
     "output_type": "stream",
     "text": [
      "Toxic\n"
     ]
    }
   ],
   "source": [
    "second_nested_list_value = favorite_things[3][1]\n",
    "print(second_nested_list_value)"
   ]
  },
  {
   "cell_type": "markdown",
   "id": "37825c3e",
   "metadata": {},
   "source": [
    "As discussed in the last module, **for** loops are mostly used in **sequential data structures**. In this case, we can **iterate** through the **favorite_things** list to access **each value** easily:"
   ]
  },
  {
   "cell_type": "code",
   "execution_count": 10,
   "id": "06699eb9",
   "metadata": {},
   "outputs": [
    {
     "name": "stdout",
     "output_type": "stream",
     "text": [
      "shoes\n",
      "eating\n",
      "running\n",
      "['Circus', 'Toxic']\n"
     ]
    }
   ],
   "source": [
    "for value in favorite_things:\n",
    "   print(value)"
   ]
  },
  {
   "cell_type": "markdown",
   "id": "891fbc53",
   "metadata": {},
   "source": [
    "What you’ll notice though is that it **displayed** the **fourth value** as a **list**. \n",
    "\n",
    "We can also **iterate** through **nested lists**, especially if the nested list is too long! For example, we can iterate through the **fourth value [“Circus”, “Toxic”]** of the **favorite_things** list using **favorite_things[3]** in the **for** loop declaration:"
   ]
  },
  {
   "cell_type": "code",
   "execution_count": 11,
   "id": "a9e843a2",
   "metadata": {},
   "outputs": [
    {
     "name": "stdout",
     "output_type": "stream",
     "text": [
      "Circus\n",
      "Toxic\n"
     ]
    }
   ],
   "source": [
    "for value in favorite_things[3]:\n",
    "   print(value)"
   ]
  },
  {
   "cell_type": "markdown",
   "id": "8e424647",
   "metadata": {},
   "source": [
    "In combination, we can have **_nested_** **for** loops to iterate through values as needed, which in this scenario, is necessary to access the values of the **fourth value [“Circus”, “Toxic”]**. We can use the built-in **enumerate()** function to identify **what index exactly** is the **for** loop **currently iterating** through. The syntax will change slightly to be as follows:"
   ]
  },
  {
   "cell_type": "code",
   "execution_count": 12,
   "id": "5de7928b",
   "metadata": {},
   "outputs": [
    {
     "name": "stdout",
     "output_type": "stream",
     "text": [
      "shoes\n",
      "eating\n",
      "running\n",
      "Circus\n",
      "Toxic\n"
     ]
    }
   ],
   "source": [
    "for index, element in enumerate(favorite_things):\n",
    "   if (index < 3):\n",
    "       print(element)\n",
    "   else: \n",
    "       for value in favorite_things[index]:\n",
    "          print(value)"
   ]
  },
  {
   "cell_type": "markdown",
   "id": "65fdc5da",
   "metadata": {},
   "source": [
    "In this code, we’re using **_two_** **for** loops, an **if-else statement**, as well as the **enumerate()** function to **identify the index** of each element per iteration. Being able to know the index allows us to execute another for loop if the **index** is **3**.\n",
    "\n",
    "A simpler way to do this is by using **increments**!"
   ]
  },
  {
   "cell_type": "code",
   "execution_count": 15,
   "id": "a5388f88",
   "metadata": {},
   "outputs": [
    {
     "name": "stdout",
     "output_type": "stream",
     "text": [
      "shoes\n",
      "eating\n",
      "running\n",
      "Circus\n",
      "Toxic\n"
     ]
    }
   ],
   "source": [
    "index = 0\n",
    "\n",
    "for element in favorite_things:\n",
    "    if (index < 3):\n",
    "        print(element)\n",
    "    else: \n",
    "        for value in favorite_things[index]:\n",
    "            print(value)\n",
    "\n",
    "    index += 1  # counts each iteration"
   ]
  },
  {
   "cell_type": "markdown",
   "id": "c8bee2c6",
   "metadata": {},
   "source": [
    "For this example, instead of using the **enumerate()** function, we’re **manually tracking** the **index** by **incrementing** the **index** variable by **1** per iteration. This allows us to track if the current iteration is already at index **3**.\n",
    "\n",
    "You can also **add values** to **lists**. The simplest way to do this is by using the built-in **append()** function, which adds the value to the **end** of the **list**."
   ]
  },
  {
   "cell_type": "code",
   "execution_count": 23,
   "id": "705b4185",
   "metadata": {},
   "outputs": [
    {
     "name": "stdout",
     "output_type": "stream",
     "text": [
      "['shoes', 'eating', 'running', ['Circus', 'Toxic'], 'sleeping']\n"
     ]
    }
   ],
   "source": [
    "favorite_things.append(\"sleeping\")\n",
    "print(favorite_things) # Output: ['shoes', 'eating', 'running', ['Circus', 'Toxic'], 'sleeping']"
   ]
  },
  {
   "cell_type": "markdown",
   "id": "f5271297",
   "metadata": {},
   "source": [
    "Simply call the name of your list followed by a period and the append() function, enclosing the value you want to add. There are also a lot more built-in methods available for you to use lists flexibly such as **count()**, **pop()**, and **sort()**, so feel free to explore these built-in methods to your liking!\n",
    "\n",
    "### Sets\n",
    "\n",
    "**Sets** are **_almost_** like lists; the only difference is that **duplicate** values are **NOT** allowed** and that it’s **NOT indexed**!\n",
    "\n",
    "In lists, we can have repetitive values such as this one:"
   ]
  },
  {
   "cell_type": "code",
   "execution_count": 25,
   "id": "8cd74087",
   "metadata": {},
   "outputs": [
    {
     "name": "stdout",
     "output_type": "stream",
     "text": [
      "List: ['never', 'gonna', 'give', 'you', 'up', 'never', 'gonna', 'let', 'you', 'down']\n"
     ]
    }
   ],
   "source": [
    "rick_roll = [\"never\", \"gonna\", \"give\", \"you\", \"up\", \"never\", \"gonna\", \"let\", \"you\", \"down\"] \n",
    "print(\"List: \" + str(rick_roll))"
   ]
  },
  {
   "cell_type": "markdown",
   "id": "5a6f97e5",
   "metadata": {},
   "source": [
    "As you can see, the string values **“never”**, **“gonna”**, and **“you”** were declared twice. \n",
    "\n",
    "In **sets**, these values can only exist **once**! Now, let’s try and **convert** this **list** to a **set**. You can do it by simply **enclosing** the **list** by the built-in **set()** function.\n",
    "\n",
    "In this case, **set([“never”, “gonna”, “give, “you”, “up”, “never”, “gonna”, “let”, “you”, “down”])** would be the same as **set(rick_roll)** since the **[rick_roll](https://www.youtube.com/watch?v=dQw4w9WgXcQ)** variable has this **list** as its **value**.\n",
    "\n",
    "Now, if we go ahead and run this code:"
   ]
  },
  {
   "cell_type": "code",
   "execution_count": 36,
   "id": "08731eac",
   "metadata": {},
   "outputs": [
    {
     "name": "stdout",
     "output_type": "stream",
     "text": [
      "List: ['never', 'gonna', 'give', 'you', 'up', 'never', 'gonna', 'let', 'you', 'down']\n",
      "Set: {'gonna', 'give', 'you', 'never', 'let', 'down', 'up'}\n"
     ]
    }
   ],
   "source": [
    "print(\"List: \" + str(rick_roll))\n",
    "print(\"Set: \" + str(set(rick_roll))) # Output: Set: {<non-repetitive values>}"
   ]
  },
  {
   "cell_type": "markdown",
   "id": "ff687880",
   "metadata": {},
   "source": [
    "The **_second_ print()** function displayed the values from the **rick_roll** list **excluding** the **repeated values**. This is because **sets don’t allow duplicates**. Therefore, the strings  **“never”**, **“gonna”**, and **“you”** were only **shown once**.\n",
    "\n",
    "As you can see, the **square bracket** also got changed to **curly brackets**. This is the **syntax** for **sets**. To declare **sets** in Python, simply **enclose** the **single, comma-separated values** with **curly brackets ({})** instead of square brackets.\n",
    "\n",
    "It's also important to note that sets **do NOT retain** the **order** of the **values**, unlike lists. We can access each value by using a **for** loop, but we can’t access it the way we do with lists since sets don’t have indexes. Therefore, in summary, a **set** contains a **sequence** of **unordered, non-repetitive values**.\n",
    "\n",
    "You can also **add values** to **sets** just like lists, but instead of append(), sets have the **add()** function."
   ]
  },
  {
   "cell_type": "code",
   "execution_count": 40,
   "id": "ab369175",
   "metadata": {},
   "outputs": [
    {
     "name": "stdout",
     "output_type": "stream",
     "text": [
      "{'yeah', 'really', 'cool'}\n"
     ]
    }
   ],
   "source": [
    "expressions = {\"cool\", \"really\"}\n",
    "expressions.add(\"yeah\")\n",
    "print(str(expressions))"
   ]
  },
  {
   "cell_type": "markdown",
   "id": "d5b0685b",
   "metadata": {},
   "source": [
    "Simply call the name of your set followed by a period and the add() function, enclosing the value you want to add. Just like lists, there are also a lot more built-in methods available for sets such as **remove()**, **union()**, and **difference()**, so again, feel free to explore these built-in methods to your liking!\n",
    "\n",
    "### Dictionaries\n",
    "\n",
    "Lastly, we have **dictionaries**. Although dictionaries are also using **curly brackets** (just like sets), dictionaries use **comma-separated key-value pairs** unlike lists and sets which only have single, comma-separated values.\n",
    "\n",
    "Let’s take a look at this example of dictionary, which contains **4 tracks** with their corresponding **singers** and **song titles**:"
   ]
  },
  {
   "cell_type": "code",
   "execution_count": 41,
   "id": "cda505c0",
   "metadata": {},
   "outputs": [
    {
     "name": "stdout",
     "output_type": "stream",
     "text": [
      "{'Queen': 'Bohemian Rhapsody', 'Oasis': 'Stand by Me', 'Radiohead': 'Creep', 'Mac Miller': 'Self Care'}\n"
     ]
    }
   ],
   "source": [
    "favorite_songs = {\"Queen\": \"Bohemian Rhapsody\", \"Oasis\": \"Stand by Me\", \"Radiohead\": \"Creep\", \"Mac Miller\": \"Self Care\"}\n",
    "print(str(favorite_songs))"
   ]
  },
  {
   "cell_type": "markdown",
   "id": "e8801fb0",
   "metadata": {},
   "source": [
    "Notice how there’s a value on the **left** side with a colon at the end? That’s the **key** for that pair, while the value on the **right** is simply called a **value**, hence the term **“key-value pairs”**. **Keys** in dictionaries can be compared to **indexes** in lists. Just like lists, dictionaries **can accept different data types**."
   ]
  },
  {
   "cell_type": "code",
   "execution_count": 42,
   "id": "963c129f",
   "metadata": {},
   "outputs": [
    {
     "name": "stdout",
     "output_type": "stream",
     "text": [
      "{'Queen': 1970, 'Oasis': 1991, 'Radiohead': 1985, 'Mac Miller': 2007}\n",
      "{1: 1970, 2.0: 1991, 3: 1985, 4.0: 2007}\n",
      "{1: True, 2: False, 3: True, 4: False}\n"
     ]
    }
   ],
   "source": [
    "favorite_artists = {\"Queen\": 1970, \"Oasis\": 1991, \"Radiohead\": 1985, \"Mac Miller\": 2007}\n",
    "print(str(favorite_artists))\n",
    "favorite_years = {1: 1970, 2.0: 1991, 3: 1985, 4.0: 2007}\n",
    "print(str(favorite_years))\n",
    "answers = {1: True, 2: False, 3: True, 4: False}\n",
    "print(str(answers))"
   ]
  },
  {
   "cell_type": "markdown",
   "id": "aca97802",
   "metadata": {},
   "source": [
    "If we go ahead and replace the keys and values with integers, floats, and boolean values, the dictionary would still work! You can even go as far as using **lists** and **sets** as its value!"
   ]
  },
  {
   "cell_type": "code",
   "execution_count": 43,
   "id": "5bd0e703",
   "metadata": {},
   "outputs": [
    {
     "name": "stdout",
     "output_type": "stream",
     "text": [
      "{'Radiohead': ['Ok Computer', 'The Bends'], 'Mac Miller': ['Swimming', 'Circles']}\n"
     ]
    }
   ],
   "source": [
    "favorite_albums = {\"Radiohead\": [\"Ok Computer\", \"The Bends\"], \"Mac Miller\": [\"Swimming\", \"Circles\"]}\n",
    "print(str(favorite_albums))"
   ]
  },
  {
   "cell_type": "markdown",
   "id": "cf0b77df",
   "metadata": {},
   "source": [
    "In this example, we used **lists** as the value for both pairs. Now the question is: _how do we access these keys and values?_\n",
    "\n",
    "For dictionaries, we have the built-in functions **items()**, **keys()**, and **values()** to access key-value pairs through a **for** loop. Now let’s go back to our first dictionary example. If we only want to get the keys of **favorite_songs**, we can simply perform a **for** loop using the **keys()** function. When creating the **for** loop, simply add a dot after favorite_songs, followed by the word keys and an open and closed parentheses:"
   ]
  },
  {
   "cell_type": "code",
   "execution_count": 44,
   "id": "b39dad56",
   "metadata": {},
   "outputs": [
    {
     "name": "stdout",
     "output_type": "stream",
     "text": [
      "Queen\n",
      "Oasis\n",
      "Radiohead\n",
      "Mac Miller\n"
     ]
    }
   ],
   "source": [
    "for key in favorite_songs.keys():\n",
    "    print(key)"
   ]
  },
  {
   "cell_type": "markdown",
   "id": "e5d0a224",
   "metadata": {},
   "source": [
    "This should only display the **artists**, not the song titles. Now if we want to print just the values, then we could do something similar using the **values()** function:"
   ]
  },
  {
   "cell_type": "code",
   "execution_count": 45,
   "id": "d55905b0",
   "metadata": {},
   "outputs": [
    {
     "name": "stdout",
     "output_type": "stream",
     "text": [
      "Bohemian Rhapsody\n",
      "Stand by Me\n",
      "Creep\n",
      "Self Care\n"
     ]
    }
   ],
   "source": [
    "for value in favorite_songs.values():\n",
    "    print(value)"
   ]
  },
  {
   "cell_type": "markdown",
   "id": "beec9957",
   "metadata": {},
   "source": [
    "Again, bear in mind that these loop iterators can be named anything, although it’s a good practice to be as consistent and descriptive as possible with names.\n",
    "\n",
    "Lastly, to access **both** the **keys** and the **values**, we need to use the **items()** function. This time around, we need to have **2 iterators**, one for the keys and one for the values:"
   ]
  },
  {
   "cell_type": "code",
   "execution_count": 47,
   "id": "5ca42f20",
   "metadata": {},
   "outputs": [
    {
     "name": "stdout",
     "output_type": "stream",
     "text": [
      "Queen - Bohemian Rhapsody\n",
      "Oasis - Stand by Me\n",
      "Radiohead - Creep\n",
      "Mac Miller - Self Care\n"
     ]
    }
   ],
   "source": [
    "for key, value in favorite_songs.items():\n",
    "    print(key + \" - \" + value)"
   ]
  },
  {
   "cell_type": "markdown",
   "id": "c50621ea",
   "metadata": {},
   "source": [
    "_Just be careful:_ In case you have **lists**, **sets**, or even another **dictionary** as dictionary **values**, make sure to have **_nested_ for** loops just like how we did it a while ago with nested lists to be able to iterate properly!\n",
    "\n",
    "## Tuples and Frozen Sets\n",
    "\n",
    "### Tuples\n",
    "\n",
    "I’d like to think of **tuples** as **_strict_ lists**. The only difference between tuples and lists is that you **CANNOT change** the **value** of the elements, and that we use **parentheses** to **enclose** elements instead of square brackets.\n",
    "\n",
    "Since tuples are **immutable**, we can’t do the following:"
   ]
  },
  {
   "cell_type": "code",
   "execution_count": 49,
   "id": "d43cb3f7",
   "metadata": {},
   "outputs": [
    {
     "ename": "TypeError",
     "evalue": "'tuple' object does not support item assignment",
     "output_type": "error",
     "traceback": [
      "\u001b[0;31m---------------------------------------------------------------------------\u001b[0m",
      "\u001b[0;31mTypeError\u001b[0m                                 Traceback (most recent call last)",
      "Input \u001b[0;32mIn [49]\u001b[0m, in \u001b[0;36m<module>\u001b[0;34m\u001b[0m\n\u001b[1;32m      1\u001b[0m favorite_things_tuple \u001b[38;5;241m=\u001b[39m (\u001b[38;5;124m\"\u001b[39m\u001b[38;5;124mshoes\u001b[39m\u001b[38;5;124m\"\u001b[39m, \u001b[38;5;241m8\u001b[39m, \u001b[38;5;124m\"\u001b[39m\u001b[38;5;124mrunning\u001b[39m\u001b[38;5;124m\"\u001b[39m, [\u001b[38;5;124m\"\u001b[39m\u001b[38;5;124mCircus\u001b[39m\u001b[38;5;124m\"\u001b[39m, \u001b[38;5;124m\"\u001b[39m\u001b[38;5;124mToxic\u001b[39m\u001b[38;5;124m\"\u001b[39m])\n\u001b[0;32m----> 2\u001b[0m favorite_things_tuple[\u001b[38;5;241m1\u001b[39m] \u001b[38;5;241m=\u001b[39m \u001b[38;5;124m\"\u001b[39m\u001b[38;5;124meating\u001b[39m\u001b[38;5;124m\"\u001b[39m \u001b[38;5;66;03m# This will not work!\u001b[39;00m\n\u001b[1;32m      3\u001b[0m \u001b[38;5;28mprint\u001b[39m(favorite_things_tuple[\u001b[38;5;241m1\u001b[39m])\n",
      "\u001b[0;31mTypeError\u001b[0m: 'tuple' object does not support item assignment"
     ]
    }
   ],
   "source": [
    "favorite_things_tuple = (\"shoes\", 8, \"running\", [\"Circus\", \"Toxic\"])\n",
    "favorite_things_tuple[1] = \"eating\" # This will not work!\n",
    "print(favorite_things_tuple[1]) # Output: TypeError: 'tuple' object does not support item assignment"
   ]
  },
  {
   "cell_type": "markdown",
   "id": "5a381639",
   "metadata": {},
   "source": [
    "For the **fourth** element **[“Circus”, “Toxic”]** though, we can still make changes inside that **list** since **lists** are **mutable**."
   ]
  },
  {
   "cell_type": "code",
   "execution_count": 51,
   "id": "94f65a5b",
   "metadata": {},
   "outputs": [
    {
     "name": "stdout",
     "output_type": "stream",
     "text": [
      "('shoes', 8, 'running', ['Circus', 'Womanizer'])\n"
     ]
    }
   ],
   "source": [
    "favorite_things_tuple = (\"shoes\", 8, \"running\", [\"Circus\", \"Toxic\"])\n",
    "favorite_things_tuple[3][1] = \"Womanizer\"\n",
    "print(str(favorite_things_tuple))"
   ]
  },
  {
   "cell_type": "markdown",
   "id": "76356aa3",
   "metadata": {},
   "source": [
    "### Frozen Sets\n",
    "\n",
    "Likewise, for **frozen sets**, they’re just **_strict_ sets**, meaning the **values cannot be modified**. To **convert** a **list** or **set** to a **frozen set**, simply have it enclosed with the built-in **frozenset()** function."
   ]
  },
  {
   "cell_type": "code",
   "execution_count": 56,
   "id": "b44ff332",
   "metadata": {},
   "outputs": [
    {
     "ename": "AttributeError",
     "evalue": "'frozenset' object has no attribute 'add'",
     "output_type": "error",
     "traceback": [
      "\u001b[0;31m---------------------------------------------------------------------------\u001b[0m",
      "\u001b[0;31mAttributeError\u001b[0m                            Traceback (most recent call last)",
      "Input \u001b[0;32mIn [56]\u001b[0m, in \u001b[0;36m<module>\u001b[0;34m\u001b[0m\n\u001b[1;32m      1\u001b[0m expressions \u001b[38;5;241m=\u001b[39m \u001b[38;5;28mfrozenset\u001b[39m({\u001b[38;5;124m\"\u001b[39m\u001b[38;5;124mcool\u001b[39m\u001b[38;5;124m\"\u001b[39m, \u001b[38;5;124m\"\u001b[39m\u001b[38;5;124mreally\u001b[39m\u001b[38;5;124m\"\u001b[39m})\n\u001b[0;32m----> 2\u001b[0m \u001b[43mexpressions\u001b[49m\u001b[38;5;241;43m.\u001b[39;49m\u001b[43madd\u001b[49m(\u001b[38;5;124m\"\u001b[39m\u001b[38;5;124myeah\u001b[39m\u001b[38;5;124m\"\u001b[39m) \u001b[38;5;66;03m# This will not work!\u001b[39;00m\n\u001b[1;32m      3\u001b[0m \u001b[38;5;28mprint\u001b[39m(\u001b[38;5;28mstr\u001b[39m(expressions))\n",
      "\u001b[0;31mAttributeError\u001b[0m: 'frozenset' object has no attribute 'add'"
     ]
    }
   ],
   "source": [
    "expressions = frozenset({\"cool\", \"really\"})\n",
    "expressions.add(\"yeah\") # This will not work!\n",
    "print(str(expressions)) # Output: AttributeError: 'frozenset' object has no attribute 'add'"
   ]
  },
  {
   "cell_type": "markdown",
   "id": "5084b22d",
   "metadata": {},
   "source": [
    "## Functions\n",
    "\n",
    "Now, you might get hungry with this, but before we wrap up, let’s talk about **functions**!\n",
    "\n",
    "Let’s say we have some **pizza dough** and we want to **_bake_ pizza** in an **oven**. A **function** would be comparable to an **oven** in this case. The **dough** would be the **parameter**, while the **pizza**, the end result, would be the **return value**.\n",
    "\n",
    "Do you need pizza to have an oven? The answer is no, you don’t. You can do other things with an oven, right? The same thing applies to functions. **Functions** are created to help **reuse blocks of code** for various purposes without having to type in the code over and over again, resulting in **code redundancy**.\n",
    "\n",
    "Now, let’s go ahead and create a **function** called **bake()**. First type in the **def** keyword, followed by the **function name**, which in this case is **bake**, then let’s put **open and close parentheses**. _Inside the **parentheses_**, we can put **one or more parameters**, which are **optional** values passed to the function. You can name this whatever you like, but again, let’s be as descriptive as possible with naming. With parameters, we can use whatever value/s we pass to perform necessary actions inside the function. For this example, we’re just printing the parameter, but we can add so much more to this block of code.\n",
    "\n",
    "Lastly, let’s add the r**eturn** keyword along with whatever value you’d want to use as a **return value**. Return values are comparable to the **values** we assign to **variables**. When we call variables, we get the values we assign to it. For **functions**, we get that **optional return value** every time we **call** it. When there’s **no return value** declared, the function **simply executes the lines of code** inside the function block. Let’s say your oven is on self-cleaning mode. You did not put anything inside to bake, so _you’re not expecting anything to come out of the oven._ It _simply does its job_, which is to clean itself.\n",
    "\n",
    "Now, let’s perform a function call by typing in the function name, which is **bake**, and inside the parentheses, let’s type in **“pizza”** as its **parameter**. Now, let’s go ahead and assign this then to a variable named **dinner**."
   ]
  },
  {
   "cell_type": "code",
   "execution_count": 60,
   "id": "f9c5ecf3",
   "metadata": {},
   "outputs": [
    {
     "name": "stdout",
     "output_type": "stream",
     "text": [
      "Baking pizza...\n",
      "My dinner is: pizza\n"
     ]
    }
   ],
   "source": [
    "def bake(product):\n",
    "    print(\"Baking \" + product + \"...\")\n",
    "    # You can do anything you want here!\n",
    "    \n",
    "    return product\n",
    "\n",
    "\n",
    "dinner = bake(\"pizza\")\n",
    "print(\"My dinner is: \" + dinner)"
   ]
  },
  {
   "cell_type": "markdown",
   "id": "91bbd808",
   "metadata": {},
   "source": [
    "The **output** would be: **“Baking pizza…”** and **“My dinner is: pizza”**. Just like that, we now have our first ever function in Python!\n",
    "\n",
    "\n",
    "## Off to the next module\n",
    "\n",
    "In this module, we learned to distinguish **mutable** from **immutable** data. I also walked you through different **Python data structures** such as **lists**, **sets**, **dictionaries**, **tuples**, and **frozen sets**. We were also able to create our **first Python function**!\n",
    "\n",
    "Now if you remember, **strings** are **_also_ immutable**. We can also **iterate** through **strings** using **loops**! We’ll talk more about **string manipulation** along with **file I/O operations** in our next module. We’ll also be using functions more to keep our code neat.\n",
    "\n",
    "## Useful Materials\n",
    "\n",
    "- [**GeeksforGeeks - Python**](https://www.geeksforgeeks.org/python-programming-language/?ref=shm)\n",
    "- [**Core Python - DZone Refcardz**](https://dzone.com/refcardz/core-python)\n",
    "- [**LearnPython - Free Interactive Tutorial**](https://www.learnpython.org/)\n"
   ]
  },
  {
   "cell_type": "markdown",
   "id": "4cc87f69",
   "metadata": {},
   "source": [
    "## Exercise\n",
    "\n",
    "1. Create a function called **task_list** that has the parameters **task_dict**, **task_name**, and **task_description**. The function should store the task_name as the **key** and task_description as the **value** into task_dict **dictionary**. Every time the function gets called, it should **print** out the dictionary key value pairs in a decent format using **items()** and **for** loop."
   ]
  },
  {
   "cell_type": "code",
   "execution_count": 1,
   "id": "f9c9af74",
   "metadata": {},
   "outputs": [],
   "source": [
    "# Enter your code here and click on Run to check the results\n",
    "\n",
    "\n",
    "\n",
    "\n",
    "\n",
    "\n"
   ]
  }
 ],
 "metadata": {
  "kernelspec": {
   "display_name": "Python 3 (ipykernel)",
   "language": "python",
   "name": "python3"
  },
  "language_info": {
   "codemirror_mode": {
    "name": "ipython",
    "version": 3
   },
   "file_extension": ".py",
   "mimetype": "text/x-python",
   "name": "python",
   "nbconvert_exporter": "python",
   "pygments_lexer": "ipython3",
   "version": "3.10.1"
  }
 },
 "nbformat": 4,
 "nbformat_minor": 5
}
