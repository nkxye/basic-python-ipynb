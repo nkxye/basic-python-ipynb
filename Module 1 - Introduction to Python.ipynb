{
 "cells": [
  {
   "cell_type": "markdown",
   "id": "f671ffb8",
   "metadata": {},
   "source": [
    "# Module 1: Introduction to Python\n",
    "\n",
    "ATMs, mobile phones, smart appliances and medical devices, even that one ad you’re seeing right now while browsing through your Facebook feed—did you know that all of those things exist today with the help of programming?\n",
    "\n",
    "Programming languages and computing came a very long way. Computer scientists spent decades coming up with different programming languages to be used hand-in-hand with computers for advancement, innovation, and efficiency. In fact, there appears to be over 8,000 programming languages created from the 18th century to the present. Insane, right?\n",
    "\n",
    "Now, people tend to think that you need to have an educational background in Computer Science or Information Technology in order to easily learn programming when, especially these days, it’s not really the case anymore! In fact, there’s been a rise in beginner-friendly languages, allowing people from other career paths to utilize the power of programming to aid them in their daily lives. Today, we're introducing you to one of the most widely-used and beginner-friendly programming languages out there: Python.\n"
   ]
  },
  {
   "cell_type": "markdown",
   "id": "c19645db",
   "metadata": {},
   "source": [
    "## What is Python?\n",
    "\n",
    "Python, whose name was derived from the comedy series “Monty Python’s Flying Circus”, is a programming language conceived by Guido van Rossum in the late 1980s before formally launching in 1991. From thereon, Python continuously grew to become one of the most popular programming languages, widely being used not only for software and web development, but also for automation, data analytics, machine learning, and software testing.\n",
    "\n",
    "Now, you might be wondering, what makes Python so popular nowadays?\n",
    "\n",
    "1. **It’s beginner-friendly.** Unlike other programming languages, the Python syntax resembles human language better. For example, it uses the words “and”, “or”, and “not” instead of symbols (“&&”, “||”, “!”). The syntax, overall, is way easier to read and understand, making it one of the best choices for beginners.\n",
    "2. **There’s a plethora of Python libraries out there**, making the language capable and versatile enough for different use cases. In fact, since some of these libraries are only available for Python.\n",
    "3. Since **Python is “open source”**, you don’t have to pay to use it, even if it’s for commercial purposes. This isn’t the same case for some programming languages. Java, for example, incurs a fee for enterprise usage.\n",
    "4. Now lastly, and probably the best thing about this, is that **Python has a large community**! Given that the language is widely used, you can easily seek guidance and tips from people all over the web when in need.\n",
    "\n",
    "## Major Uses of Python\n",
    "\n",
    "For starters, Python, just like any other programming languages, is commonly used for software and web development. For web development, there are third-party frameworks available such as Flask and Django to make things easier. If you want a standalone desktop application, there’s Tkinter and PyQt to help you create a graphical user interface. Furthermore, Python is also commonly used to automate processes, from as simple as decluttering your filesystem daily, to as complex as conducting automated software testing. If you’re an aspiring data scientist or data analyst though, then you might have heard of Python already. Tensorflow, Pandas, Numpy are just some of the libraries available to help you with statistics, data visualizations, and machine learning.\n",
    "\n",
    "Python is versatile enough to help users with different scenarios. For example, if your job involves processing tens or hundreds of documents and spreadsheets for recording purposes, then Python can definitely make your job easier. Better yet, if you’re into stock investment and crypto trading, you could utilize Python to let it do the chart and market analyses for you. Thanks to the third-party users contributing to the ever growing repository of Python libraries, you can now do so many things, and the best thing about all of this is the language itself is beginner-friendly.\n",
    "\n"
   ]
  },
  {
   "cell_type": "markdown",
   "id": "bdc9dc9a",
   "metadata": {},
   "source": [
    "## Installation Process\n",
    "\n",
    "> **NOTE:** Make sure you’re downloading the version that matches your operating system. For example, if you’re using a Macbook or iMac, you should be downloading the latest version for MacOS. \n",
    "\n",
    "### Download Python\n",
    "Go to **www.python.org**, click on the **Downloads** tab, and then click on the yellow **Download Python 3.x.x** button, which should let you download the latest version. Once you’re done downloading, simply follow the steps in the installation wizard, and once the installation is successful, you should now have the applications **IDLE** and **Python Launcher** installed.\n",
    "\n",
    "\n",
    "### Download PyCharm IDE\n",
    "Go to **www.jetbrains.com**, click on the **Learning Tools** tab, and then click on **PyCharm Edu**. Once you've downloaded the file, simply follow the steps in the installation wizard.\n",
    "\n",
    "> **FUN FACT:** Python comes with its own styling guide, called **PEP 8** or the **Python Enhancement Proposals 8**.This style guide is a helpful syntactical guideline for things such as code layout, indentations, and naming conventions. Feel free to [check out the guide](https://www.python.org/dev/peps/pep-0008/) to familiarize yourself better with Python’s best practices."
   ]
  },
  {
   "cell_type": "markdown",
   "id": "96b9390d",
   "metadata": {},
   "source": [
    "## Off to the next module\n",
    "\n",
    "Now that you have **Python** and **PyCharm Edu** installed, congratulations! You can now formally start your Python programming journey.\n"
   ]
  }
 ],
 "metadata": {
  "kernelspec": {
   "display_name": "Python 3 (ipykernel)",
   "language": "python",
   "name": "python3"
  },
  "language_info": {
   "codemirror_mode": {
    "name": "ipython",
    "version": 3
   },
   "file_extension": ".py",
   "mimetype": "text/x-python",
   "name": "python",
   "nbconvert_exporter": "python",
   "pygments_lexer": "ipython3",
   "version": "3.10.1"
  }
 },
 "nbformat": 4,
 "nbformat_minor": 5
}
