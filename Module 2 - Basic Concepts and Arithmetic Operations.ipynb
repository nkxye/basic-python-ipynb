{
 "cells": [
  {
   "cell_type": "markdown",
   "id": "d27d1800",
   "metadata": {},
   "source": [
    "# Module 2: Basic Concepts and Arithmetic Operations\n",
    "\n",
    "If you’ve had experience programming in another language before, what we’re about to tackle right now might be familiar to you already, but stick around if you want to familiarize yourself with the Python syntax! Now, since we’re just starting, why don’t we go ahead and drill down into the basic concepts first?\n",
    "\n",
    "> **IMPORTANT**: Make sure to click on **Run** for **_each_ Code cell** to see the output and introduce functions and variables to the notebook!\n",
    "\n",
    "\n",
    "## Comments, Indentations, and Naming\n",
    "\n",
    "**[PEP 8](https://peps.python.org/pep-0008/)** is the style guide for Python that specifies the best coding practices, including but not limited to: indentations, comments, and naming conventions. For a simplified version, [you may refer to this guide by Real Python](https://realpython.com/python-pep8/).\n",
    "\n",
    "The IDE we’ve installed in the last module (i.e., PyCharm) has the ability to guide you through the best practices while coding, but for starters, here are some of the most important things to observe when coding in Python:\n",
    "\n",
    "1. The first two are general programming best practices, but first: make sure to leave descriptive comments for your code. Don’t leave others in the dark! Use comments to summarize what your code does to make it easier to understand for others. For block comments, use 3 quotation marks (\"\"\") at the beginning and at the end of the block of text."
   ]
  },
  {
   "cell_type": "code",
   "execution_count": 6,
   "id": "0675d5d4",
   "metadata": {},
   "outputs": [
    {
     "data": {
      "text/plain": [
       "'\\nThis is an example of a block comment.\\nEasy, right?\\n'"
      ]
     },
     "execution_count": 6,
     "metadata": {},
     "output_type": "execute_result"
    }
   ],
   "source": [
    "\"\"\"\n",
    "This is an example of a block comment.\n",
    "Easy, right?\n",
    "\"\"\""
   ]
  },
  {
   "cell_type": "markdown",
   "id": "99d25023",
   "metadata": {},
   "source": [
    "2. For single-line comments, you just need to use the hash sign (#) at the beginning of the text."
   ]
  },
  {
   "cell_type": "code",
   "execution_count": 4,
   "id": "630b99b5",
   "metadata": {},
   "outputs": [],
   "source": [
    "# This is an example of a single-line comment.\n",
    "# You need to put another hash sign for each line of comment."
   ]
  },
  {
   "cell_type": "markdown",
   "id": "9acffbb9",
   "metadata": {},
   "source": [
    "2. Use sensible names for your variables and functions. Avoid naming them as abc, xyz, foo, and bar. Using random words and letters will definitely confuse not only other people, but you, yourself, in the long run!\n",
    "3. Use **snake_case** as your naming convention. **snake_case** is basically lowercase naming with underscores serving as its separator instead of a space.\n",
    "4. Be wary of your indentation, especially with functions! Python functions don’t come with brackets, after all. You’ll learn more about this in an upcoming module.\n",
    "\n",
    "## Print, Input, and Variable\n",
    "\n",
    "Just like any other programming language, Python has built-in functions both to ask for user input and to display output! For user input, we use **input()** and for output, we use **print()**.\n",
    "\n",
    "To display any output, simply enclose the desired output with the open and close parentheses of the **print()** function. Let’s now try using the **print()** function by creating your first Hello World program in Python! Simply type in:"
   ]
  },
  {
   "cell_type": "code",
   "execution_count": 5,
   "id": "c44aced7",
   "metadata": {},
   "outputs": [
    {
     "name": "stdout",
     "output_type": "stream",
     "text": [
      "Hello World!\n"
     ]
    }
   ],
   "source": [
    "print(\"Hello World!\")"
   ]
  },
  {
   "cell_type": "markdown",
   "id": "b052ac86",
   "metadata": {},
   "source": [
    "**Don’t forget the quotation marks!** You need quotation marks for **Strings**, meaning an output composed of characters like this one.\n",
    "\n",
    "But how about the **input()** function? We need to try that too! Now let’s spice things up a bit by asking for a name to greet someone “Hello”! Let’s type in:"
   ]
  },
  {
   "cell_type": "code",
   "execution_count": 7,
   "id": "460f6dd9",
   "metadata": {},
   "outputs": [
    {
     "name": "stdout",
     "output_type": "stream",
     "text": [
      "Please enter a name: Self\n",
      "Hello Self!\n"
     ]
    }
   ],
   "source": [
    "name = input(\"Please enter a name: \")\n",
    "print(\"Hello \" + name + \"!\")"
   ]
  },
  {
   "cell_type": "markdown",
   "id": "f317a236",
   "metadata": {},
   "source": [
    "But wait, what’s that thing before the **input()** function, you may ask? That’s called a **variable**. After asking for the user’s name, we need to remember that so we’re using a **variable** called **name** to store that value for future usage!\n",
    "\n",
    "On the print() function, you’ll notice the way the name variable was printed along with the “Hello” greeting. What the plus (+) sign does is it **concatenates** or it combines the variable together with the “Hello” and the exclamation point.\n",
    "\n",
    "Isn’t it great? Not only have you tried these two very important built-in functions, but you’ve also created and used your very first Python variable!"
   ]
  },
  {
   "cell_type": "markdown",
   "id": "cdb4d374",
   "metadata": {},
   "source": [
    "## Data Types\n",
    "\n",
    "Speaking of Python variables, it’s important to know that there are multiple data types available in Python, so you need to be mindful of this especially when using variables!\n",
    "\n",
    "The standard **Python data types** include: **Boolean**, **Numerics**, **Strings**, **Lists**, **Tuples**, **Sets**, and **Dictionaries**.\n",
    "\n",
    "We’ll be tackling everything in the modules to come, but for now, we’re going to concentrate on Booleans, Numerics, and Strings!\n",
    "\n",
    "**Boolean**, just like the logical truth table (if you’ve heard of it), is a matter of **True** or **False**. The naming convention **_should always be capitalized_** when it comes to Boolean values. You’ll encounter Boolean values a lot in the upcoming modules, particularly for logical operations and loops.\n",
    "\n",
    "If we’re going to run this code, using the **type()** function, we’re able to verify that the answer variable indeed contains a Boolean value."
   ]
  },
  {
   "cell_type": "code",
   "execution_count": 8,
   "id": "3318c34d",
   "metadata": {},
   "outputs": [
    {
     "name": "stdout",
     "output_type": "stream",
     "text": [
      "<class 'bool'>\n"
     ]
    }
   ],
   "source": [
    "answer = True\n",
    "print(type(answer))"
   ]
  },
  {
   "cell_type": "markdown",
   "id": "c95cd185",
   "metadata": {},
   "source": [
    "Now, just like what was mentioned about the print() function, you need quotation marks for Strings. A **String** is a **_sequence of characters_**. Therefore, if we’re going to run this code, using the **type()** function, we’re able to verify that the greeting variable indeed contains a String-typed value."
   ]
  },
  {
   "cell_type": "code",
   "execution_count": 9,
   "id": "ca6de8a9",
   "metadata": {},
   "outputs": [
    {
     "name": "stdout",
     "output_type": "stream",
     "text": [
      "<class 'str'>\n"
     ]
    }
   ],
   "source": [
    "greeting = \"Hola amiga!\"\n",
    "print(type(greeting))"
   ]
  },
  {
   "cell_type": "markdown",
   "id": "a23b11fb",
   "metadata": {},
   "source": [
    "But what about numerics? **Numbers**, in Python, could be either a **float** or an **integer**. When we say **integers**, these are **signed whole numbers**. For example, if we’re going to run this code, using the **type()** function, we’re able to verify that the sum variable indeed contains an integer-typed value."
   ]
  },
  {
   "cell_type": "code",
   "execution_count": 12,
   "id": "32262518",
   "metadata": {},
   "outputs": [
    {
     "name": "stdout",
     "output_type": "stream",
     "text": [
      "<class 'int'>\n"
     ]
    }
   ],
   "source": [
    "sum = 10\n",
    "print(type(sum))"
   ]
  },
  {
   "cell_type": "code",
   "execution_count": 13,
   "id": "18e25c97",
   "metadata": {},
   "outputs": [
    {
     "name": "stdout",
     "output_type": "stream",
     "text": [
      "<class 'int'>\n"
     ]
    }
   ],
   "source": [
    "sum = -10\n",
    "print(type(sum))"
   ]
  },
  {
   "cell_type": "markdown",
   "id": "2e8975d2",
   "metadata": {},
   "source": [
    "**Floats**, on the other hand, are **floating point numbers**! This means the number **_has a decimal point_**, as opposed to integers. For example, if we’re going to run this code, using the **type()** function, we’re able to verify that the sum variable indeed contains a float-typed value."
   ]
  },
  {
   "cell_type": "code",
   "execution_count": 14,
   "id": "de0c0114",
   "metadata": {},
   "outputs": [
    {
     "name": "stdout",
     "output_type": "stream",
     "text": [
      "<class 'float'>\n"
     ]
    }
   ],
   "source": [
    "sum = 10.9\n",
    "print(type(sum))"
   ]
  },
  {
   "cell_type": "markdown",
   "id": "5c6760bd",
   "metadata": {},
   "source": [
    "## Arithmetic Operators and Expressions\n",
    "\n",
    "There are 7 arithmetic operators in Python:\n",
    "1. Addition (+)\n",
    "2. Subtraction (-)\n",
    "3. Multiplication (*)\n",
    "4. Division (/)\n",
    "5. Modulus (%)\n",
    "6. Exponentiation (**)\n",
    "7. Floor Division (//)\n",
    "\n",
    "You can use these operators interchangeably to form an arithmetic expression. It’s also important to note that Python arithmetic expressions follow the **PEMDAS** rule. Therefore, you could also make use of parentheses to specify precedence.\n",
    "\n",
    "What we have here in code are sample arithmetic expressions:"
   ]
  },
  {
   "cell_type": "code",
   "execution_count": 1,
   "id": "b5e87582",
   "metadata": {},
   "outputs": [
    {
     "name": "stdout",
     "output_type": "stream",
     "text": [
      "11.666666666666666\n"
     ]
    }
   ],
   "source": [
    "answer = 10 + 5 / 3\n",
    "print(answer)"
   ]
  },
  {
   "cell_type": "markdown",
   "id": "fba5c8e1",
   "metadata": {},
   "source": [
    "If you’ll notice, Python followed **PEMDAS** first by executing 5 divided by 3 first before adding 10 to the quotient.\n",
    "\n",
    "By using parentheses, however, we can easily change the order of calculation of the expression.\n"
   ]
  },
  {
   "cell_type": "code",
   "execution_count": 2,
   "id": "19a28228",
   "metadata": {},
   "outputs": [
    {
     "name": "stdout",
     "output_type": "stream",
     "text": [
      "5.0\n"
     ]
    }
   ],
   "source": [
    "answer = (10 + 5) / 3\n",
    "print(answer)"
   ]
  },
  {
   "cell_type": "markdown",
   "id": "1d414648",
   "metadata": {},
   "source": [
    "Notice how this time, 10 was added to 5 first before getting divided by 3, resulting to a new output.\n",
    "\n",
    "We could also do floor division to get a quotient without any remainder."
   ]
  },
  {
   "cell_type": "code",
   "execution_count": 3,
   "id": "703fc06e",
   "metadata": {},
   "outputs": [
    {
     "name": "stdout",
     "output_type": "stream",
     "text": [
      "11\n"
     ]
    }
   ],
   "source": [
    "answer = 10 + 5 // 3\n",
    "print(answer)"
   ]
  },
  {
   "cell_type": "markdown",
   "id": "43cccde1",
   "metadata": {},
   "source": [
    "See how the trailing .666666666666666 disappeared?\n",
    "\n",
    "Lastly, you could make use of the modulus operator to see if a dividend and a divisor has a remainder or not. This is useful when determining odd, even, or divisible numbers."
   ]
  },
  {
   "cell_type": "code",
   "execution_count": 4,
   "id": "715140b5",
   "metadata": {},
   "outputs": [
    {
     "name": "stdout",
     "output_type": "stream",
     "text": [
      "0\n"
     ]
    }
   ],
   "source": [
    "answer = (10 + 5) % 3\n",
    "print(answer)"
   ]
  },
  {
   "cell_type": "markdown",
   "id": "a37d5f2b",
   "metadata": {},
   "source": [
    "The output for this is zero since 15 is divisible by 3.\n",
    "\n",
    "However, if we change this to another number that isn’t divisible by 3:"
   ]
  },
  {
   "cell_type": "code",
   "execution_count": 5,
   "id": "f18811e8",
   "metadata": {},
   "outputs": [
    {
     "name": "stdout",
     "output_type": "stream",
     "text": [
      "2\n"
     ]
    }
   ],
   "source": [
    "answer = (10 + 7) % 3\n",
    "print(answer)"
   ]
  },
  {
   "cell_type": "markdown",
   "id": "7827cac3",
   "metadata": {},
   "source": [
    "Then it returns the remainder. Amazing, isn’t it? Python also comes with other built-in mathematical functions, which can be used for complex equations such as trigonometry and logarithms. Feel free to explore and use these to your liking!"
   ]
  },
  {
   "cell_type": "markdown",
   "id": "21e28d49",
   "metadata": {},
   "source": [
    "## Off to the next module\n",
    "\n",
    "For this module, we learned some basic programming concepts such as some best coding practices, the print and input function, variables, and data types. We were also able to create our Hello World program and explore basic arithmetic operations in Python!\n",
    "\n",
    "In our next module, we’ll be talking more about logical expressions and control flow statements.\n",
    "\n",
    "\n",
    "## Useful Materials\n",
    "\n",
    "- [**GeeksforGeeks - Python**](https://www.geeksforgeeks.org/python-programming-language/?ref=shm)\n",
    "- [**Core Python - DZone Refcardz**](https://dzone.com/refcardz/core-python)\n",
    "- [**LearnPython - Free Interactive Tutorial**](https://www.learnpython.org/)\n"
   ]
  },
  {
   "cell_type": "markdown",
   "id": "b59456e4",
   "metadata": {},
   "source": [
    "## Exercise\n",
    "\n",
    "1. Create a Python program that checks if the number entered by the user is an **even** number, and if the number is a **float** or an **integer**."
   ]
  },
  {
   "cell_type": "code",
   "execution_count": 1,
   "id": "4a8f2a12",
   "metadata": {},
   "outputs": [],
   "source": [
    "# Enter your code here and click on Run to check the results\n",
    "\n",
    "\n",
    "\n",
    "\n",
    "\n",
    "\n"
   ]
  }
 ],
 "metadata": {
  "kernelspec": {
   "display_name": "Python 3 (ipykernel)",
   "language": "python",
   "name": "python3"
  },
  "language_info": {
   "codemirror_mode": {
    "name": "ipython",
    "version": 3
   },
   "file_extension": ".py",
   "mimetype": "text/x-python",
   "name": "python",
   "nbconvert_exporter": "python",
   "pygments_lexer": "ipython3",
   "version": "3.10.1"
  }
 },
 "nbformat": 4,
 "nbformat_minor": 5
}
