{
 "cells": [
  {
   "cell_type": "markdown",
   "id": "85a7471d",
   "metadata": {},
   "source": [
    "# Module 3: Logical Expressions and Control Flow\n",
    "\n",
    "In the last module, we started drilling down into basic Python programming concepts. We were also able to create our Hello World program and perform basic arithmetic operations! This time around, we’re going to utilize Boolean values more and perform logical operations through comparison and logical operators to create if-else statements, nested statements, and even loops using **for** and **while**.\n",
    "\n",
    "> **IMPORTANT**: Make sure to click on **Run** for **_each_ Code cell** to see the output and introduce functions and variables to the notebook!\n",
    "\n",
    "\n",
    "## Comparison Operators\n",
    "\n",
    "If you’ve already encountered the truth table in a Logic class back then, these concepts might ring a bell.\n",
    "\n",
    "In programming conditions are statements that evaluate certain actions or values using Boolean values, which is **True** or **False**.\n",
    "\n",
    "Now, let’s say we have two values: 3 and 5. In Mathematics, we can easily signify which value is smaller or larger by using the **greater than (>)**, **less than (<)**, and **equal (=)** sign. In programming, we can use these symbols to compare two values and get answers by building a condition.\n",
    "\n",
    "### Comparison of equality, denoted by two equal signs (==)\n",
    "   - You can use this to check if 2 values are equal. If the values are equal, the condition should return the boolean value **True**. Otherwise, it should return **False**. For example, in this line of code right here:"
   ]
  },
  {
   "cell_type": "code",
   "execution_count": 1,
   "id": "68b83a29",
   "metadata": {},
   "outputs": [
    {
     "name": "stdout",
     "output_type": "stream",
     "text": [
      "False\n"
     ]
    }
   ],
   "source": [
    "print(3 == 5)"
   ]
  },
  {
   "cell_type": "markdown",
   "id": "d237a6e0",
   "metadata": {},
   "source": [
    "Since the left value 3 is **NOT** equal to the value on the right which is 5, the condition returns **False**.\n",
    "\n",
    "### Comparison of greater value, denoted by the greater than sign (>)\n",
    "   - If the value at the left side of the sign is **greater than** the value on the right, then the condition becomes **True**. For example, in this line of code right here:"
   ]
  },
  {
   "cell_type": "code",
   "execution_count": 2,
   "id": "2c192bc1",
   "metadata": {},
   "outputs": [
    {
     "name": "stdout",
     "output_type": "stream",
     "text": [
      "False\n"
     ]
    }
   ],
   "source": [
    "print(3 > 5)"
   ]
  },
  {
   "cell_type": "markdown",
   "id": "e7e1e92a",
   "metadata": {},
   "source": [
    "Since the left value 3 is **NOT** greater than the value on the right which is 5, the condition returns **False**.\n",
    "\n",
    "### Comparison of lesser value, denoted by the less than sign (<)\n",
    "   - This is just the opposite of the “greater than” sign, so if the value at the left side of the sign is **less than** the value on the right, then the condition becomes **True**. For example, in this line of code right here:"
   ]
  },
  {
   "cell_type": "code",
   "execution_count": 3,
   "id": "1404c44a",
   "metadata": {},
   "outputs": [
    {
     "name": "stdout",
     "output_type": "stream",
     "text": [
      "True\n"
     ]
    }
   ],
   "source": [
    "print(3 < 5)"
   ]
  },
  {
   "cell_type": "markdown",
   "id": "9089cea4",
   "metadata": {},
   "source": [
    "Since the left value 3 is less than the value on the right which is 5, the condition returns **True**.\n",
    "\n",
    "### Combination of equality and comparison of greater value, denoted by the greater than sign followed by 1 equal sign (>=)\n",
    "   - This means the condition will return **True** if the value at the left side of the sign is **greater than OR equal to** the value on the right. For example, in these conditions:"
   ]
  },
  {
   "cell_type": "code",
   "execution_count": 4,
   "id": "f62157a4",
   "metadata": {},
   "outputs": [
    {
     "name": "stdout",
     "output_type": "stream",
     "text": [
      "True\n",
      "True\n"
     ]
    }
   ],
   "source": [
    "print(6 >= 5)\n",
    "print(5 >= 5)"
   ]
  },
  {
   "cell_type": "markdown",
   "id": "4b37a558",
   "metadata": {},
   "source": [
    "For the first one, since the left value 6 is **greater than** the value on the right which is 5, the condition returns **True**. For the second one, although 5 is **NOT greater than** 5, **IT IS equal** to 5, so the condition still returns **True**.\n",
    "\n",
    "\n",
    "### Combination of equality and the comparison of the lesser value, denoted by the less than sign followed by 1 equal sign (<=)\n",
    "   - This means the condition will return **True** if the value at the left side of the sign is **less than OR equal to** the value on the right. For example, in these conditions:"
   ]
  },
  {
   "cell_type": "code",
   "execution_count": 5,
   "id": "822b1c84",
   "metadata": {},
   "outputs": [
    {
     "name": "stdout",
     "output_type": "stream",
     "text": [
      "False\n",
      "True\n"
     ]
    }
   ],
   "source": [
    "print(6 <= 5)\n",
    "print(5 <= 5)"
   ]
  },
  {
   "cell_type": "markdown",
   "id": "f736d789",
   "metadata": {},
   "source": [
    "For the first one, since the left value 6 is **NOT** less than the value on the right which is 5, the condition returns **False**. For the second one, just like the previous example, although 5 is **NOT less than** 5, **IT IS equal** to 5, so the condition still returns **True**.\n",
    "\n",
    "\n",
    "### Comparison of inequality, denoted by an exclamation point followed by an equal sign (!=)\n",
    "   - You can use this to check if two values are **NOT** equal. For example, we have the following conditions:"
   ]
  },
  {
   "cell_type": "code",
   "execution_count": 6,
   "id": "cc862ec0",
   "metadata": {},
   "outputs": [
    {
     "name": "stdout",
     "output_type": "stream",
     "text": [
      "True\n",
      "False\n"
     ]
    }
   ],
   "source": [
    "print(6 != 5)\n",
    "print(5 != 5)"
   ]
  },
  {
   "cell_type": "markdown",
   "id": "11f77c86",
   "metadata": {},
   "source": [
    "Since 6 is **NOT** equal to 5, the condition returns **True**. The second condition, however, returns False since 5 is equal to 5.\n",
    "\n",
    "\n",
    "Also, it’s important to note that these conditions are not just exclusive to numerical values such as integers and floats. We can also use this to compare strings and even Boolean values! To put it simply, we have the following examples:"
   ]
  },
  {
   "cell_type": "code",
   "execution_count": 8,
   "id": "dfd8b091",
   "metadata": {},
   "outputs": [
    {
     "name": "stdout",
     "output_type": "stream",
     "text": [
      "False\n",
      "True\n"
     ]
    }
   ],
   "source": [
    "first_string = \"Jane\"\n",
    "second_string = \"Tarzan\"\n",
    "print(first_string == second_string)\n",
    "\n",
    "first_bool = True\n",
    "second_bool = True\n",
    "print(first_bool == second_bool)"
   ]
  },
  {
   "cell_type": "markdown",
   "id": "e54fd74d",
   "metadata": {},
   "source": [
    "Notice how the operators accept variables for comparison? This is because Python uses the values of those variables to compare. For the first example, the condition returns **False** since the name “Jane” is **NOT** the same as the name “Tarzan”. For the second condition, since **both variables** have the value **True**, the condition returns **True** as well since the values are the same.\n",
    "\n",
    "\n",
    "## Logical Operators\n",
    "\n",
    "Now that you know how comparison operators work to create conditions, let’s go ahead and try combining conditions with the help of logical operators!\n",
    "\n",
    "There are three logical operators in Python: **and**, **or**, and **not**. We can use these logical operators to compare two or more conditions to fulfill a certain action.\n",
    "\n",
    "### The AND operator\n",
    "   - returns **True** only if **all conditions** return **True** as well. If one of the conditions becomes False, the logical operator will return **False** right away. For example, with this logical expression:"
   ]
  },
  {
   "cell_type": "code",
   "execution_count": 9,
   "id": "f9407dda",
   "metadata": {},
   "outputs": [
    {
     "name": "stdout",
     "output_type": "stream",
     "text": [
      "True\n"
     ]
    }
   ],
   "source": [
    "print((6 >= 5) and (5 >= 5))"
   ]
  },
  {
   "cell_type": "markdown",
   "id": "cd1365c0",
   "metadata": {},
   "source": [
    "The logical operator returns **True** since **both conditions are True**. For our second example, however:"
   ]
  },
  {
   "cell_type": "code",
   "execution_count": 10,
   "id": "d67a4dd4",
   "metadata": {},
   "outputs": [
    {
     "name": "stdout",
     "output_type": "stream",
     "text": [
      "False\n"
     ]
    }
   ],
   "source": [
    "print((6 <= 5) and (5 <= 5))"
   ]
  },
  {
   "cell_type": "markdown",
   "id": "b9c24be7",
   "metadata": {},
   "source": [
    "The logical operator returns **False** since the **_first condition_**, 6 is less than or equal to 5, is **False**.\n",
    "\n",
    "### The OR operator\n",
    "   - automatically returns **True** if **at least one** condition is **True**. So for the second example we used for the **and** operator, if we change that to **or**:"
   ]
  },
  {
   "cell_type": "code",
   "execution_count": 11,
   "id": "4863335d",
   "metadata": {},
   "outputs": [
    {
     "name": "stdout",
     "output_type": "stream",
     "text": [
      "True\n"
     ]
    }
   ],
   "source": [
    "print((6 <= 5) or (5 <= 5))"
   ]
  },
  {
   "cell_type": "markdown",
   "id": "fe32fe5d",
   "metadata": {},
   "source": [
    "The logical operator returns **True** even though the **_first condition_**, 6 is less than or equal to 5, is **False**, since the **_second condition_**, 5 is greater than or equal to 5, is **True**.\n",
    "\n",
    "\n",
    "### The NOT operator\n",
    "   - **negates** the result of a condition or a logical expression. For example:"
   ]
  },
  {
   "cell_type": "code",
   "execution_count": 12,
   "id": "09130cf6",
   "metadata": {},
   "outputs": [
    {
     "name": "stdout",
     "output_type": "stream",
     "text": [
      "False\n"
     ]
    }
   ],
   "source": [
    "answer = True\n",
    "print(not answer)"
   ]
  },
  {
   "cell_type": "markdown",
   "id": "d0fe1d11",
   "metadata": {},
   "source": [
    "If we use the **not** operator on the **answer** variable, which contains the Boolean value **True**, the output will be F**alse** since this is the **opposite or inverse** of **True**.\n",
    "\n",
    "\n",
    "## If-Else and Nested Statements\n",
    "\n",
    "### If-Else Statements\n",
    "\n",
    "Now, with comparison and logical operators, we can create **if-else statements** to execute lines of code based on a certain condition! The simplest way to understand if-else statements is by comparing it to how we decide when purchasing things.\n",
    "\n",
    "> Let’s say I want to buy a pint of pistachio ice cream. There might be cases where my desired flavor is not available, right? If that’s the case, then I could buy a pint of vanilla ice cream and a pack of pistachio nuts instead. Now, if that isn’t available, I’ll just leave the store.\n",
    "\n",
    "In an if-else logic, that course of decision would look like:\n",
    "\n",
    "> If the flavor available is Pistachio, buy ice cream.\n",
    "Else if the flavor available is Vanilla, buy ice cream and pistachio nuts.\n",
    "Else, leave the store.\n",
    "\n",
    "Now, with the use of if, elif (which is the syntax for else if), else, and comparison operators in Python, it would look like this in code:"
   ]
  },
  {
   "cell_type": "code",
   "execution_count": 13,
   "id": "974a8e31",
   "metadata": {},
   "outputs": [
    {
     "name": "stdout",
     "output_type": "stream",
     "text": [
      "Buying the ice cream and pistachio nuts\n"
     ]
    }
   ],
   "source": [
    "flavor = \"vanilla\"\n",
    "\n",
    "if (flavor == \"pistachio\"):\n",
    "   print(\"Buying the ice cream\")\n",
    "elif (flavor == \"vanilla\"):\n",
    "   print(\"Buying the ice cream and pistachio nuts\")\n",
    "else:\n",
    "   print(\"Leaving the store!\")"
   ]
  },
  {
   "cell_type": "markdown",
   "id": "3482e665",
   "metadata": {},
   "source": [
    "Since the flavor declared is **“vanilla”**, the output will be **“Buying the ice cream and pistachio nuts”**. The other print functions declared under **if** and **else** will be **ignored** since the **elif block** was **satisfied**. Now, if we change the flavor to anything else other than pistachio and vanilla:"
   ]
  },
  {
   "cell_type": "code",
   "execution_count": 14,
   "id": "49e717d0",
   "metadata": {},
   "outputs": [
    {
     "name": "stdout",
     "output_type": "stream",
     "text": [
      "Leaving the store!\n"
     ]
    }
   ],
   "source": [
    "flavor = \"chocolate\"\n",
    "\n",
    "if (flavor == \"pistachio\"):\n",
    "   print(\"Buying the ice cream\")\n",
    "elif (flavor == \"vanilla\"):\n",
    "   print(\"Buying the ice cream and pistachio nuts\")\n",
    "else:\n",
    "   print(\"Leaving the store!\")"
   ]
  },
  {
   "cell_type": "markdown",
   "id": "cdf887aa",
   "metadata": {},
   "source": [
    "The output will be **“Leaving the store!”** since the value of the flavor variable **did not satisfy the conditions** for the **if** and **elif blocks**.\n",
    "\n",
    "Now, let’s say I don’t have to buy pistachio nuts anymore if the flavor is vanilla. We can then use a **logical operator** to make this if-else statement simpler!"
   ]
  },
  {
   "cell_type": "code",
   "execution_count": 16,
   "id": "7ca28d7e",
   "metadata": {},
   "outputs": [
    {
     "name": "stdout",
     "output_type": "stream",
     "text": [
      "Buying the ice cream\n"
     ]
    }
   ],
   "source": [
    "flavor = \"pistachio\"\n",
    "\n",
    "if (flavor == \"pistachio\" or flavor == \"vanilla\"):\n",
    "   print(\"Buying the ice cream\")\n",
    "else:\n",
    "   print(\"Leaving the store!\")"
   ]
  },
  {
   "cell_type": "code",
   "execution_count": 17,
   "id": "555435ca",
   "metadata": {},
   "outputs": [
    {
     "name": "stdout",
     "output_type": "stream",
     "text": [
      "Buying the ice cream\n"
     ]
    }
   ],
   "source": [
    "flavor = \"vanilla\"\n",
    "\n",
    "if (flavor == \"pistachio\" or flavor == \"vanilla\"):\n",
    "   print(\"Buying the ice cream\")\n",
    "else:\n",
    "   print(\"Leaving the store!\")"
   ]
  },
  {
   "cell_type": "markdown",
   "id": "b9dd2609",
   "metadata": {},
   "source": [
    "Now, if the flavor declared is **either** pistachio or vanilla, the output will be **“Buying the ice cream”**, thanks to the or logical operator!\n",
    "\n",
    "### Nested Statements\n",
    "\n",
    "We can also **nest if-else statements** if ever there’s a lot of conditions you need to check before you could perform a course of action. For example, let’s say I’m lactose intolerant! Therefore, I need a dairy-free ice cream. First and foremost, I need to check if the ice cream is dairy-free before I can check the flavors."
   ]
  },
  {
   "cell_type": "code",
   "execution_count": 18,
   "id": "28eacca1",
   "metadata": {},
   "outputs": [
    {
     "name": "stdout",
     "output_type": "stream",
     "text": [
      "Buy only dairy-free ice cream!\n"
     ]
    }
   ],
   "source": [
    "dairy_free = False\n",
    "\n",
    "if (dairy_free):\n",
    "    if (flavor == \"pistachio\" or flavor == \"vanilla\"):\n",
    "       print(\"Buying the ice cream\")\n",
    "    else:\n",
    "       print(\"Leaving the store!\")\n",
    "else:\n",
    "   print(\"Buy only dairy-free ice cream!\")"
   ]
  },
  {
   "cell_type": "markdown",
   "id": "73bec68b",
   "metadata": {},
   "source": [
    "For this example, the **if-else block** for the flavors was **enclosed by an if block** that checks if the **dairy_free** variable is **True**. Note how I **did not** type in dairy_free **== True**. This is because the variable itself is already set to a **Boolean** value, so a comparison operator would **NOT** be needed anymore, hence **if (dairy_free)**.\n",
    "\n",
    "Since the **dairy_free** variable is set to **False**, only the **else block** will be **satisfied**. The output, therefore, will be **“Buy only dairy-free ice cream!”**.\n",
    "\n",
    "\n",
    "## While and For Loops\n",
    "\n",
    "Did you know that you can also use conditions to execute actions or lines of code repeatedly? To achieve this, you can make use of either the **for** loop or the **while** loop.\n",
    "\n",
    "### While Loop\n",
    "\n",
    "**While** loops are used to execute code repeatedly as long as the condition is still returning a certain Boolean value. Let’s use the ice cream analogy as an example once again. I want to keep buying ice cream until the store runs out of stock! With mathematical operations and a **while** loop, we can do something like:"
   ]
  },
  {
   "cell_type": "code",
   "execution_count": 20,
   "id": "9524d57f",
   "metadata": {},
   "outputs": [
    {
     "name": "stdout",
     "output_type": "stream",
     "text": [
      "Buy ice cream!\n",
      "Buy ice cream!\n",
      "Buy ice cream!\n",
      "Buy ice cream!\n",
      "Buy ice cream!\n",
      "Buy ice cream!\n",
      "Buy ice cream!\n",
      "Buy ice cream!\n",
      "Buy ice cream!\n",
      "Buy ice cream!\n",
      "Ice cream is now out of stock!\n"
     ]
    }
   ],
   "source": [
    "quantity = 10\n",
    "\n",
    "while (quantity > 0):\n",
    "    print(\"Buy ice cream!\")\n",
    "    quantity = quantity - 1 # decrease the stock quantity by 1 after buying ice cream\n",
    "\n",
    "if quantity == 0:\n",
    "    print(\"Ice cream is now out of stock!\")"
   ]
  },
  {
   "cell_type": "markdown",
   "id": "c5957844",
   "metadata": {},
   "source": [
    "With these lines of code, **“Buy ice cream!”** will be displayed before subtracting the current value of the **quantity** variable by 1 and will **continue** doing so as long as the **quantity is greater than 0**. After that, once quantity becomes 0, **“Ice cream is now out of stock!”** will be displayed on the console. \n",
    "\n",
    "Now, here’s a fun fact, there’s actually a shorter way to increment and decrement values in a variable! For our current example, **quantity = quantity - 1** can be declared as **quantity** followed by the minus sign and an equal sign (-=) and then the **subtrahend**, which in this case is 1."
   ]
  },
  {
   "cell_type": "code",
   "execution_count": 21,
   "id": "e5298b90",
   "metadata": {},
   "outputs": [
    {
     "name": "stdout",
     "output_type": "stream",
     "text": [
      "9\n"
     ]
    }
   ],
   "source": [
    "quantity = 10\n",
    "# quantity = quantity - 1\n",
    "quantity -= 1\n",
    "print(quantity)"
   ]
  },
  {
   "cell_type": "markdown",
   "id": "cb9235ae",
   "metadata": {},
   "source": [
    "You can also do the same for other arithmetic operators, as long as the goal is to perform the arithmetic operation **AND** store the answer back to the variable!"
   ]
  },
  {
   "cell_type": "code",
   "execution_count": 24,
   "id": "ea64b15b",
   "metadata": {},
   "outputs": [
    {
     "name": "stdout",
     "output_type": "stream",
     "text": [
      "11\n",
      "20\n",
      "10.0\n"
     ]
    }
   ],
   "source": [
    "quantity = 10\n",
    "# quantity = quantity + 1\n",
    "quantity += 1\n",
    "print(quantity)\n",
    "\n",
    "quantity = 10\n",
    "# quantity = quantity * 2\n",
    "quantity *= 2\n",
    "print(quantity)\n",
    "\n",
    "quantity = 10\n",
    "# quantity = quantity / 5\n",
    "quantity /= 1\n",
    "print(quantity)"
   ]
  },
  {
   "cell_type": "markdown",
   "id": "f9b82418",
   "metadata": {},
   "source": [
    "Now, let’s just use the shorthand code fromhereon:"
   ]
  },
  {
   "cell_type": "code",
   "execution_count": 25,
   "id": "7c9b83d7",
   "metadata": {},
   "outputs": [
    {
     "name": "stdout",
     "output_type": "stream",
     "text": [
      "Buy ice cream!\n",
      "Buy ice cream!\n",
      "Buy ice cream!\n",
      "Buy ice cream!\n",
      "Buy ice cream!\n",
      "Buy ice cream!\n",
      "Buy ice cream!\n",
      "Buy ice cream!\n",
      "Buy ice cream!\n",
      "Buy ice cream!\n",
      "Ice cream is now out of stock!\n"
     ]
    }
   ],
   "source": [
    "quantity = 10\n",
    "\n",
    "while (quantity > 0):\n",
    "    print(\"Buy ice cream!\")\n",
    "    quantity -= 1 # decrease the stock quantity by 1 after buying ice cream; changed to shorthand format\n",
    "\n",
    "if quantity == 0:\n",
    "    print(\"Ice cream is now out of stock!\")"
   ]
  },
  {
   "cell_type": "markdown",
   "id": "47e385c5",
   "metadata": {},
   "source": [
    "Notice how we **indented** both the **print(“Buy ice cream!”)** and **quantity -= 1**? As mentioned in the previous modules, **indentation** is really **important** in Python, since unlike the other programming languages, Python does **not** use **brackets**. Therefore, indentations should be properly observed so that Python knows which lines should be executed for that block. For example, if we **remove** the **indentation** for **quantity -= 1**:"
   ]
  },
  {
   "cell_type": "code",
   "execution_count": 31,
   "id": "af2b8f77",
   "metadata": {},
   "outputs": [
    {
     "name": "stdout",
     "output_type": "stream",
     "text": [
      "Buy ice cream!\n",
      "Buy ice cream!\n",
      "Buy ice cream!\n",
      "Buy ice cream!\n",
      "Buy ice cream!\n",
      "Buy ice cream!\n",
      "Buy ice cream!\n",
      "Buy ice cream!\n",
      "Buy ice cream!\n",
      "Buy ice cream!\n",
      "Buy ice cream!\n",
      "Buy ice cream!\n",
      "Buy ice cream!\n",
      "Buy ice cream!\n",
      "Buy ice cream!\n",
      "Buy ice cream!\n",
      "Buy ice cream!\n",
      "Buy ice cream!\n",
      "Buy ice cream!\n",
      "Buy ice cream!\n",
      "Buy ice cream!\n",
      "Buy ice cream!\n",
      "Buy ice cream!\n",
      "Buy ice cream!\n",
      "Buy ice cream!\n",
      "Buy ice cream!\n",
      "Buy ice cream!\n",
      "Buy ice cream!\n",
      "Buy ice cream!\n",
      "Buy ice cream!\n",
      "Buy ice cream!\n",
      "Buy ice cream!\n",
      "Buy ice cream!\n",
      "Buy ice cream!\n",
      "Buy ice cream!\n",
      "Buy ice cream!\n",
      "Buy ice cream!\n",
      "Buy ice cream!\n",
      "Buy ice cream!\n",
      "Buy ice cream!\n",
      "Buy ice cream!\n",
      "Buy ice cream!\n",
      "Buy ice cream!\n",
      "Buy ice cream!\n",
      "Buy ice cream!\n",
      "Buy ice cream!\n",
      "Buy ice cream!"
     ]
    },
    {
     "ename": "KeyboardInterrupt",
     "evalue": "",
     "output_type": "error",
     "traceback": [
      "\u001b[0;31m---------------------------------------------------------------------------\u001b[0m",
      "\u001b[0;31mKeyboardInterrupt\u001b[0m                         Traceback (most recent call last)",
      "Input \u001b[0;32mIn [31]\u001b[0m, in \u001b[0;36m<module>\u001b[0;34m\u001b[0m\n\u001b[1;32m      1\u001b[0m quantity \u001b[38;5;241m=\u001b[39m \u001b[38;5;241m10\u001b[39m\n\u001b[1;32m      2\u001b[0m \u001b[38;5;28;01mwhile\u001b[39;00m (quantity \u001b[38;5;241m>\u001b[39m \u001b[38;5;241m0\u001b[39m):\n\u001b[0;32m----> 3\u001b[0m     \u001b[38;5;28;43mprint\u001b[39;49m\u001b[43m(\u001b[49m\u001b[38;5;124;43m\"\u001b[39;49m\u001b[38;5;124;43mBuy ice cream!\u001b[39;49m\u001b[38;5;124;43m\"\u001b[39;49m\u001b[43m)\u001b[49m\n\u001b[1;32m      4\u001b[0m quantity \u001b[38;5;241m-\u001b[39m\u001b[38;5;241m=\u001b[39m \u001b[38;5;241m1\u001b[39m\n",
      "File \u001b[0;32m/Library/Frameworks/Python.framework/Versions/3.10/lib/python3.10/site-packages/ipykernel/iostream.py:529\u001b[0m, in \u001b[0;36mOutStream.write\u001b[0;34m(self, string)\u001b[0m\n\u001b[1;32m    527\u001b[0m is_child \u001b[38;5;241m=\u001b[39m (\u001b[38;5;129;01mnot\u001b[39;00m \u001b[38;5;28mself\u001b[39m\u001b[38;5;241m.\u001b[39m_is_master_process())\n\u001b[1;32m    528\u001b[0m \u001b[38;5;66;03m# only touch the buffer in the IO thread to avoid races\u001b[39;00m\n\u001b[0;32m--> 529\u001b[0m \u001b[38;5;28;43mself\u001b[39;49m\u001b[38;5;241;43m.\u001b[39;49m\u001b[43mpub_thread\u001b[49m\u001b[38;5;241;43m.\u001b[39;49m\u001b[43mschedule\u001b[49m\u001b[43m(\u001b[49m\u001b[38;5;28;43;01mlambda\u001b[39;49;00m\u001b[43m:\u001b[49m\u001b[43m \u001b[49m\u001b[38;5;28;43mself\u001b[39;49m\u001b[38;5;241;43m.\u001b[39;49m\u001b[43m_buffer\u001b[49m\u001b[38;5;241;43m.\u001b[39;49m\u001b[43mwrite\u001b[49m\u001b[43m(\u001b[49m\u001b[43mstring\u001b[49m\u001b[43m)\u001b[49m\u001b[43m)\u001b[49m\n\u001b[1;32m    530\u001b[0m \u001b[38;5;28;01mif\u001b[39;00m is_child:\n\u001b[1;32m    531\u001b[0m     \u001b[38;5;66;03m# mp.Pool cannot be trusted to flush promptly (or ever),\u001b[39;00m\n\u001b[1;32m    532\u001b[0m     \u001b[38;5;66;03m# and this helps.\u001b[39;00m\n\u001b[1;32m    533\u001b[0m     \u001b[38;5;28;01mif\u001b[39;00m \u001b[38;5;28mself\u001b[39m\u001b[38;5;241m.\u001b[39m_subprocess_flush_pending:\n",
      "File \u001b[0;32m/Library/Frameworks/Python.framework/Versions/3.10/lib/python3.10/site-packages/ipykernel/iostream.py:214\u001b[0m, in \u001b[0;36mIOPubThread.schedule\u001b[0;34m(self, f)\u001b[0m\n\u001b[1;32m    212\u001b[0m     \u001b[38;5;28mself\u001b[39m\u001b[38;5;241m.\u001b[39m_events\u001b[38;5;241m.\u001b[39mappend(f)\n\u001b[1;32m    213\u001b[0m     \u001b[38;5;66;03m# wake event thread (message content is ignored)\u001b[39;00m\n\u001b[0;32m--> 214\u001b[0m     \u001b[38;5;28;43mself\u001b[39;49m\u001b[38;5;241;43m.\u001b[39;49m\u001b[43m_event_pipe\u001b[49m\u001b[38;5;241;43m.\u001b[39;49m\u001b[43msend\u001b[49m\u001b[43m(\u001b[49m\u001b[38;5;124;43mb\u001b[39;49m\u001b[38;5;124;43m'\u001b[39;49m\u001b[38;5;124;43m'\u001b[39;49m\u001b[43m)\u001b[49m\n\u001b[1;32m    215\u001b[0m \u001b[38;5;28;01melse\u001b[39;00m:\n\u001b[1;32m    216\u001b[0m     f()\n",
      "File \u001b[0;32m/Library/Frameworks/Python.framework/Versions/3.10/lib/python3.10/site-packages/zmq/sugar/socket.py:547\u001b[0m, in \u001b[0;36mSocket.send\u001b[0;34m(self, data, flags, copy, track, routing_id, group)\u001b[0m\n\u001b[1;32m    540\u001b[0m         data \u001b[38;5;241m=\u001b[39m zmq\u001b[38;5;241m.\u001b[39mFrame(\n\u001b[1;32m    541\u001b[0m             data,\n\u001b[1;32m    542\u001b[0m             track\u001b[38;5;241m=\u001b[39mtrack,\n\u001b[1;32m    543\u001b[0m             copy\u001b[38;5;241m=\u001b[39mcopy \u001b[38;5;129;01mor\u001b[39;00m \u001b[38;5;28;01mNone\u001b[39;00m,\n\u001b[1;32m    544\u001b[0m             copy_threshold\u001b[38;5;241m=\u001b[39m\u001b[38;5;28mself\u001b[39m\u001b[38;5;241m.\u001b[39mcopy_threshold,\n\u001b[1;32m    545\u001b[0m         )\n\u001b[1;32m    546\u001b[0m     data\u001b[38;5;241m.\u001b[39mgroup \u001b[38;5;241m=\u001b[39m group\n\u001b[0;32m--> 547\u001b[0m \u001b[38;5;28;01mreturn\u001b[39;00m \u001b[38;5;28;43msuper\u001b[39;49m\u001b[43m(\u001b[49m\u001b[43mSocket\u001b[49m\u001b[43m,\u001b[49m\u001b[43m \u001b[49m\u001b[38;5;28;43mself\u001b[39;49m\u001b[43m)\u001b[49m\u001b[38;5;241;43m.\u001b[39;49m\u001b[43msend\u001b[49m\u001b[43m(\u001b[49m\u001b[43mdata\u001b[49m\u001b[43m,\u001b[49m\u001b[43m \u001b[49m\u001b[43mflags\u001b[49m\u001b[38;5;241;43m=\u001b[39;49m\u001b[43mflags\u001b[49m\u001b[43m,\u001b[49m\u001b[43m \u001b[49m\u001b[43mcopy\u001b[49m\u001b[38;5;241;43m=\u001b[39;49m\u001b[43mcopy\u001b[49m\u001b[43m,\u001b[49m\u001b[43m \u001b[49m\u001b[43mtrack\u001b[49m\u001b[38;5;241;43m=\u001b[39;49m\u001b[43mtrack\u001b[49m\u001b[43m)\u001b[49m\n",
      "File \u001b[0;32mzmq/backend/cython/socket.pyx:718\u001b[0m, in \u001b[0;36mzmq.backend.cython.socket.Socket.send\u001b[0;34m()\u001b[0m\n",
      "File \u001b[0;32mzmq/backend/cython/socket.pyx:765\u001b[0m, in \u001b[0;36mzmq.backend.cython.socket.Socket.send\u001b[0;34m()\u001b[0m\n",
      "File \u001b[0;32mzmq/backend/cython/socket.pyx:242\u001b[0m, in \u001b[0;36mzmq.backend.cython.socket._send_copy\u001b[0;34m()\u001b[0m\n",
      "File \u001b[0;32m/Library/Frameworks/Python.framework/Versions/3.10/lib/python3.10/site-packages/zmq/backend/cython/checkrc.pxd:13\u001b[0m, in \u001b[0;36mzmq.backend.cython.checkrc._check_rc\u001b[0;34m()\u001b[0m\n",
      "\u001b[0;31mKeyboardInterrupt\u001b[0m: "
     ]
    }
   ],
   "source": [
    "quantity = 10\n",
    "while (quantity > 0):\n",
    "    print(\"Buy ice cream!\")\n",
    "quantity -= 1"
   ]
  },
  {
   "cell_type": "markdown",
   "id": "b18f4d06",
   "metadata": {},
   "source": [
    "Not only will the **quantity -= 1** execute **after** the while loop is done, but the loop will also **run forever** since the value of quantity will never become zero, resulting in an **infinite loop**! So, to avoid infinite loops, make sure that the Boolean return value for the condition will change at some point while the loop is running. If the quantity never runs out, then we’ll just keep on buying ice cream!"
   ]
  },
  {
   "cell_type": "markdown",
   "id": "10ef69e6",
   "metadata": {},
   "source": [
    "### For Loop\n",
    "\n",
    "The second type of loop is called a **for** loop, which is useful to **iterate** through **sequential data structures** such as **strings**, **lists**, and **dictionaries**.\n",
    "\n",
    "Strings are technically just sequences of characters. Therefore, if we wanted to, we can use the for loop to iterate through each character in that string. For example, this for loop will print each letter one at a time:"
   ]
  },
  {
   "cell_type": "code",
   "execution_count": 32,
   "id": "953da1ad",
   "metadata": {},
   "outputs": [
    {
     "name": "stdout",
     "output_type": "stream",
     "text": [
      "P\n",
      "y\n",
      "t\n",
      "h\n",
      "o\n",
      "n\n"
     ]
    }
   ],
   "source": [
    "word = \"Python\"\n",
    "\n",
    "for letter in word:\n",
    "   print(letter)"
   ]
  },
  {
   "cell_type": "markdown",
   "id": "f9e56945",
   "metadata": {},
   "source": [
    "The lines of code to execute **for** loop should be **indented** underneath. The **for** keyword should be followed by the **iterator name**. This can be named anything, although it’s a good practice to be as consistent and descriptive as possible with names. You’ll be using this iterator name to **access** the **value derived** from each **iteration**, as seen in the **print()** function. Lastly, don’t forget to declare the **sequential data** to iterate through, which in this case is a string variable named **word**.\n",
    "\n",
    "There you have it! Our first **for** loop. These for loops, however, are extensively used more to iterate through lists, dictionaries, sets, and tuples—all of which will be covered in the next module."
   ]
  },
  {
   "cell_type": "markdown",
   "id": "a487ff92",
   "metadata": {},
   "source": [
    "## Off to the next module\n",
    "\n",
    "In this module, we learned how to utilize comparison and logical operators to create if-else statements and loops. Our next module will be all about Python data structures and functions. We’ll also talk about the differences between mutable and immutable data.\n",
    "\n",
    "## Useful Materials\n",
    "\n",
    "- [**GeeksforGeeks - Python**](https://www.geeksforgeeks.org/python-programming-language/?ref=shm)\n",
    "- [**Core Python - DZone Refcardz**](https://dzone.com/refcardz/core-python)\n",
    "- [**LearnPython - Free Interactive Tutorial**](https://www.learnpython.org/)"
   ]
  },
  {
   "cell_type": "markdown",
   "id": "1becfde0",
   "metadata": {},
   "source": [
    "## Exercise\n",
    "\n",
    "1. Create a Python program that checks if the number entered by the user is a **prime** number."
   ]
  },
  {
   "cell_type": "code",
   "execution_count": 1,
   "id": "6d60de3f",
   "metadata": {},
   "outputs": [],
   "source": [
    "# Enter your code here and click on Run to check the results\n",
    "\n",
    "\n",
    "\n",
    "\n",
    "\n",
    "\n"
   ]
  }
 ],
 "metadata": {
  "kernelspec": {
   "display_name": "Python 3 (ipykernel)",
   "language": "python",
   "name": "python3"
  },
  "language_info": {
   "codemirror_mode": {
    "name": "ipython",
    "version": 3
   },
   "file_extension": ".py",
   "mimetype": "text/x-python",
   "name": "python",
   "nbconvert_exporter": "python",
   "pygments_lexer": "ipython3",
   "version": "3.10.1"
  }
 },
 "nbformat": 4,
 "nbformat_minor": 5
}
